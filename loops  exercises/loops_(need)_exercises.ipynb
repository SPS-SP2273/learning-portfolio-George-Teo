{
 "cells": [
  {
   "attachments": {},
   "cell_type": "markdown",
   "id": "123456",
   "metadata": {},
   "source": [
    "<div style=\"text-align:left;font-size:2em\"><span style=\"font-weight:bolder;font-size:1.25em\">SP2273 | Learning Portfolio</span><br><br><span style=\"font-weight:bold;color:darkred\">Loops (Need) Exercises</span></div>"
   ]
  },
  {
   "cell_type": "markdown",
   "id": "ce9d4291-87a6-4995-a97f-9a81c1ed9d47",
   "metadata": {},
   "source": [
    "# Exercise 1"
   ]
  },
  {
   "cell_type": "markdown",
   "id": "4e8a93ae-a3ec-4ba3-a2f7-a58c489bc9d8",
   "metadata": {},
   "source": [
    "You are provided with the following list of temperatures in Celsius. Write a quick Python snippet that converts each temperature to Fahrenheit and prints both temperatures.\n",
    "\n",
    "From Google:\n",
    "$$\n",
    "T(°C) \\times \\dfrac{9}{5} + 32 = T(°F)\n",
    "$$\r\n",
    "]"
   ]
  },
  {
   "cell_type": "code",
   "execution_count": 3,
   "id": "2a7e8489-d73a-4fc6-803f-993514398813",
   "metadata": {},
   "outputs": [],
   "source": [
    "temperatures_celsius = [0, 5, 10, 15, 20, 25, 30, 35, 40, 45, 50]"
   ]
  },
  {
   "cell_type": "code",
   "execution_count": 6,
   "id": "e45590af-b466-4765-baa4-3a6e6f4f213d",
   "metadata": {},
   "outputs": [],
   "source": [
    "import numpy as np"
   ]
  },
  {
   "cell_type": "code",
   "execution_count": 13,
   "id": "ce530eba-8eae-44a9-8261-a232bc84501c",
   "metadata": {},
   "outputs": [
    {
     "name": "stdout",
     "output_type": "stream",
     "text": [
      "[ 32.  41.  50.  59.  68.  77.  86.  95. 104. 113. 122.]\n"
     ]
    }
   ],
   "source": [
    "temperatures_celsius_array = np.array(temperatures_celsius)        # Converts the list into an array\n",
    "temperatures_fahrenheit = (temperatures_celsius_array)*1.8 + 32    # Performs the conversion\n",
    "print(temperatures_fahrenheit)"
   ]
  },
  {
   "cell_type": "code",
   "execution_count": 71,
   "id": "da340f2b-32d5-4711-88cd-59ab96fda4d2",
   "metadata": {},
   "outputs": [
    {
     "name": "stdout",
     "output_type": "stream",
     "text": [
      "0 °C is 32.0 °F\n",
      "5 °C is 41.0 °F\n",
      "10 °C is 50.0 °F\n",
      "15 °C is 59.0 °F\n",
      "20 °C is 68.0 °F\n",
      "25 °C is 77.0 °F\n",
      "30 °C is 86.0 °F\n",
      "35 °C is 95.0 °F\n",
      "40 °C is 104.0 °F\n",
      "45 °C is 113.0 °F\n",
      "50 °C is 122.0 °F\n"
     ]
    }
   ],
   "source": [
    "for celsius, fahrenheit in enumerate(temperatures_fahrenheit):     # First method using enumerate\n",
    "    celsius = temperatures_celsius[celsius]\n",
    "    print(celsius, '°C is', fahrenheit, '°F')"
   ]
  },
  {
   "cell_type": "code",
   "execution_count": 72,
   "id": "07c7cc6f-e672-41cd-a12c-2f581bf31b22",
   "metadata": {},
   "outputs": [
    {
     "name": "stdout",
     "output_type": "stream",
     "text": [
      "0 °C is 32.0 °F\n",
      "5 °C is 41.0 °F\n",
      "10 °C is 50.0 °F\n",
      "15 °C is 59.0 °F\n",
      "20 °C is 68.0 °F\n",
      "25 °C is 77.0 °F\n",
      "30 °C is 86.0 °F\n",
      "35 °C is 95.0 °F\n",
      "40 °C is 104.0 °F\n",
      "45 °C is 113.0 °F\n",
      "50 °C is 122.0 °F\n"
     ]
    }
   ],
   "source": [
    "for index in range(len(temperatures_celsius)):                     # Second method using range\n",
    "    print(temperatures_celsius[index], '°C is', temperatures_fahrenheit[index], '°F')"
   ]
  },
  {
   "cell_type": "markdown",
   "id": "60bb38bb-d2d0-4392-b6e1-dc0f3432e1c1",
   "metadata": {},
   "source": [
    "# Exercise 2"
   ]
  },
  {
   "cell_type": "markdown",
   "id": "7b285d91-ff6b-45b2-961d-5d2653131af6",
   "metadata": {},
   "source": [
    "## Example"
   ]
  },
  {
   "cell_type": "code",
   "execution_count": 47,
   "id": "1d2fcdf7-fcf7-44ee-abe8-2b053c97d766",
   "metadata": {},
   "outputs": [
    {
     "name": "stdout",
     "output_type": "stream",
     "text": [
      "A1\tA2\tA3\t\n",
      "\n",
      "B1\tB2\tB3\t\n",
      "\n",
      "C1\tC2\tC3\t\n",
      "\n"
     ]
    }
   ],
   "source": [
    "for letter in ['A', 'B', 'C']:\n",
    "    for number in [1, 2, 3]:\n",
    "        print(f'{letter}{number}', end='\\t')    # prints a TAB instead of a new line after every 'number'\n",
    "    print('\\n')                                 # prints an additional line after every 'letter'"
   ]
  },
  {
   "cell_type": "markdown",
   "id": "2b7a6db9-adca-4f17-83f6-ffd9ab40f714",
   "metadata": {},
   "source": [
    "## Task"
   ]
  },
  {
   "cell_type": "markdown",
   "id": "4dd38fc7-442f-4088-bf45-df357a457a69",
   "metadata": {},
   "source": [
    "Write a Python snippet that prints a multiplication table (up to 5) for numbers 1 through 5 using **nested** `for` loops. The output should be formatted as shown below:\n",
    "\n",
    "```\n",
    "1 : 1   2   3   4   5   \n",
    "2 : 2   4   6   8   10  \n",
    "3 : 3   6   9   12  15  \n",
    "4 : 4   8   12  16  20  \n",
    "5 : 5   10  15  20  25\n",
    "```"
   ]
  },
  {
   "cell_type": "code",
   "execution_count": 65,
   "id": "0018c61d-83f9-47ce-9f35-e33c3c1df554",
   "metadata": {},
   "outputs": [
    {
     "name": "stdout",
     "output_type": "stream",
     "text": [
      "1 : \t 1\t2\t3\t4\t5\t\n",
      "\n",
      "2 : \t 2\t4\t6\t8\t10\t\n",
      "\n",
      "3 : \t 3\t6\t9\t12\t15\t\n",
      "\n",
      "4 : \t 4\t8\t12\t16\t20\t\n",
      "\n",
      "5 : \t 5\t10\t15\t20\t25\t\n",
      "\n"
     ]
    }
   ],
   "source": [
    "for n, first_number in enumerate([1, 2, 3, 4, 5]):          # Creates a truple with (n, first_number)\n",
    "    for second_number in [1, 2, 3, 4, 5]:\n",
    "        product = first_number*second_number                # Apparently one can multiply values even though first_number and second_number are not arrays\n",
    "        if second_number == 1:                              # Creating the case for the very first number so that we can print the 1:\n",
    "            print(n+1, ':', '\\t', product, end='\\t')        # at the start of every row\n",
    "        else:\n",
    "            print(product, end='\\t')\n",
    "    print('\\n')"
   ]
  }
 ],
 "metadata": {
  "kernelspec": {
   "display_name": "Python 3 (ipykernel)",
   "language": "python",
   "name": "python3"
  },
  "language_info": {
   "codemirror_mode": {
    "name": "ipython",
    "version": 3
   },
   "file_extension": ".py",
   "mimetype": "text/x-python",
   "name": "python",
   "nbconvert_exporter": "python",
   "pygments_lexer": "ipython3",
   "version": "3.11.5"
  },
  "toc": {
   "base_numbering": 1,
   "nav_menu": {},
   "number_sections": true,
   "sideBar": true,
   "skip_h1_title": false,
   "title_cell": "Table of Contents",
   "title_sidebar": "Contents",
   "toc_cell": false,
   "toc_position": {},
   "toc_section_display": true,
   "toc_window_display": false
  },
  "vscode": {
   "interpreter": {
    "hash": "31f2aee4e71d21fbe5cf8b01ff0e069b9275f58929596ceb00d14d90e3e16cd6"
   }
  }
 },
 "nbformat": 4,
 "nbformat_minor": 5
}
