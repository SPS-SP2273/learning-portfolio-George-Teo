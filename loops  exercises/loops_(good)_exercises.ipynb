{
 "cells": [
  {
   "attachments": {},
   "cell_type": "markdown",
   "id": "123456",
   "metadata": {},
   "source": [
    "<div style=\"text-align:left;font-size:2em\"><span style=\"font-weight:bolder;font-size:1.25em\">SP2273 | Learning Portfolio</span><br><br><span style=\"font-weight:bold;color:darkred\">Loops (Good) Exercises</span></div>"
   ]
  },
  {
   "cell_type": "markdown",
   "id": "d3235ff2-af8f-4087-965e-6e9c12285048",
   "metadata": {},
   "source": [
    "# Exercise 1\n",
    "With your knowledge of growing lists, use a `for` loop with `range()` and `continue` to generate a list of the squares of the odd integers from 0 to 9."
   ]
  },
  {
   "cell_type": "code",
   "execution_count": 12,
   "id": "8c2dee3d-70b8-4343-bed3-f2d3e4801a36",
   "metadata": {},
   "outputs": [
    {
     "name": "stdout",
     "output_type": "stream",
     "text": [
      "[1, 9, 25, 49, 81]\n"
     ]
    }
   ],
   "source": [
    "odd_integer_squares = []                          # Creates the empty list\n",
    "\n",
    "for integers in range(10):                        # Iterate through integers from 1 to 10\n",
    "    if integers % 2 == 0:\n",
    "        continue                                  # Exclude even numbers\n",
    "    odd_integer_squares.append(integers**2)       # Adds the odd integer squares to the list\n",
    "\n",
    "print(odd_integer_squares)"
   ]
  },
  {
   "cell_type": "markdown",
   "id": "da4b99b8-91a1-4830-b571-54b5d85f23e9",
   "metadata": {},
   "source": [
    "# Exercise 2\n",
    "Redo the previous exercise using list comprehension."
   ]
  },
  {
   "cell_type": "code",
   "execution_count": 1,
   "id": "98b6a8aa-d3a3-4abe-98ef-107bc9746d20",
   "metadata": {},
   "outputs": [
    {
     "name": "stdout",
     "output_type": "stream",
     "text": [
      "[1, 9, 25, 49, 81]\n"
     ]
    }
   ],
   "source": [
    "import numpy as np\n",
    "odd_integer_squares_2 = [number**2 for number in range(10) if number % 2 == 1]\n",
    "print(odd_integer_squares_2)"
   ]
  },
  {
   "cell_type": "code",
   "execution_count": 13,
   "id": "90dcfc7c-ebaf-453c-abb6-9b3a3109bb7e",
   "metadata": {},
   "outputs": [
    {
     "name": "stdout",
     "output_type": "stream",
     "text": [
      "[1 3 5 7 9]\n"
     ]
    }
   ],
   "source": [
    "#import numpy as np\n",
    "#odd_integer_list = [number for number in range(10) if number % 2 == 1]    # Creates a list of odd integers from 1 to 10\n",
    "#odd_integer_array = np.array(odd_integer_list)                            # Turns this list into an array so that we can square it later\n",
    "#print(odd_integer_array)"
   ]
  },
  {
   "cell_type": "code",
   "execution_count": 14,
   "id": "7ab944bf-f64d-4029-9fbb-d4546681ee2c",
   "metadata": {},
   "outputs": [
    {
     "name": "stdout",
     "output_type": "stream",
     "text": [
      "[ 1  9 25 49 81]\n"
     ]
    }
   ],
   "source": [
    "#odd_integer_squares_array = (odd_integer_array)**2\n",
    "#print(odd_integer_squares_array)"
   ]
  },
  {
   "cell_type": "markdown",
   "id": "93773f90-6ea0-41ae-9edc-d62425dc6b88",
   "metadata": {},
   "source": [
    "# Exercise 3"
   ]
  },
  {
   "cell_type": "code",
   "execution_count": 2,
   "id": "511ccb4c-0029-41a5-824f-5cdc681f8bf8",
   "metadata": {},
   "outputs": [
    {
     "name": "stdout",
     "output_type": "stream",
     "text": [
      "2.05 µs ± 66.1 ns per loop (mean ± std. dev. of 7 runs, 1,000,000 loops each)\n"
     ]
    }
   ],
   "source": [
    "%%timeit\n",
    "odd_integer_squares = []\n",
    "for integers in range(10):\n",
    "    if integers % 2 == 0:\n",
    "        continue\n",
    "    odd_integer_squares.append(integers**2)"
   ]
  },
  {
   "cell_type": "code",
   "execution_count": 3,
   "id": "710e33ad-d310-4d04-ac7c-571a750b2c6c",
   "metadata": {},
   "outputs": [
    {
     "name": "stdout",
     "output_type": "stream",
     "text": [
      "2.11 µs ± 155 ns per loop (mean ± std. dev. of 7 runs, 100,000 loops each)\n"
     ]
    }
   ],
   "source": [
    "%%timeit\n",
    "odd_integer_squares_2 = [number**2 for number in range(10) if number % 2 == 1]"
   ]
  },
  {
   "cell_type": "markdown",
   "id": "ced7154d-6d0e-411c-8a23-35d13ffb1559",
   "metadata": {},
   "source": [
    "The first method takes `2.05 µs ± 66.1 ns` per loop whereas the second takes `2.11 µs ± 155 ns` per loop. Therefore we can conclude that both methods are just as fast."
   ]
  },
  {
   "cell_type": "markdown",
   "id": "6fcd56ad-07b1-402c-b3ab-5e8897408ff5",
   "metadata": {},
   "source": [
    "# Exercise 4\n",
    "The initial quantity of a sample of a radioactive substance is 100 units, and it decays by 5% each year. Use a `while` loop to determine how long the sample will take to reduce to half its original amount."
   ]
  },
  {
   "cell_type": "code",
   "execution_count": 4,
   "id": "4c8df4fd-5d2e-47e9-a586-625e635409b0",
   "metadata": {},
   "outputs": [
    {
     "name": "stdout",
     "output_type": "stream",
     "text": [
      "The half-life of this radioactive substance is around 14 years.\n"
     ]
    }
   ],
   "source": [
    "years = 0\n",
    "amount = 100\n",
    "while amount > 50:\n",
    "    amount = amount*0.95                                              # For every loop,\n",
    "    years += 1                                                        # add one year\n",
    "print(f'The half-life of this radioactive substance is around {years} years.')"
   ]
  },
  {
   "cell_type": "markdown",
   "id": "7ae288cc-5fb0-4e87-8202-c86e7ad2d9df",
   "metadata": {},
   "source": [
    "# Exercise 5\n",
    "The following is data about atmospheric $CO_2$\n",
    " levels for several years in a (year, CO2_level) format. The units are ppm."
   ]
  },
  {
   "cell_type": "code",
   "execution_count": 6,
   "id": "c635f691-2b2a-42be-8b68-5d3c1bb99803",
   "metadata": {},
   "outputs": [],
   "source": [
    "co2_data = [\n",
    "    (2000, 369.55), (2001, 371.14), (2002, 373.28), \n",
    "    (2003, 375.80), (2004, 377.52), (2005, 379.80), \n",
    "    (2006, 381.90), (2007, 383.79), (2008, 385.60), \n",
    "    (2009, 387.43), (2010, 389.90), (2011, 391.65), \n",
    "    (2012, 393.85), (2013, 396.52), (2014, 398.65),\n",
    "    (2015, 400.83), (2016, 404.24), (2017, 406.55), \n",
    "    (2018, 408.52), (2019, 411.44), (2020, 414.24)\n",
    "]"
   ]
  },
  {
   "cell_type": "markdown",
   "id": "b6410918-5597-4a16-9837-8241203dce10",
   "metadata": {},
   "source": [
    "Identify those years that showed an increase of $CO_2$ of 3 ppm or more compared to the previous year.\n",
    "Please print out these years along with the corresponding change in concentration."
   ]
  },
  {
   "cell_type": "code",
   "execution_count": 8,
   "id": "1b978dce-07fd-4e33-8e05-5c05944c976a",
   "metadata": {},
   "outputs": [
    {
     "name": "stdout",
     "output_type": "stream",
     "text": [
      "There was a 3.41 ppm increase of CO2 in 2016 compared to 2015\n"
     ]
    }
   ],
   "source": [
    "current_year = 0\n",
    "previous_year = -1\n",
    "\n",
    "for year, ppm in co2_data:\n",
    "    increase = co2_data[current_year][1] - co2_data[previous_year][1]                # This takes the difference between CO2 concentrations between the\n",
    "    current_year += 1                                                                # last [-1] and first [1] element. I am not sure how this can be\n",
    "    previous_year += 1                                                               # resolved without having an error message\n",
    "    if increase < 3:\n",
    "        continue\n",
    "    print(f\"There was a {increase:.3} ppm increase of CO2 in {year} compared to {year-1}\")   # Leaves the increase to 3 s.f."
   ]
  },
  {
   "cell_type": "code",
   "execution_count": 20,
   "id": "18f05c6a-b7fe-4c59-9c0a-c240fd2d802a",
   "metadata": {},
   "outputs": [
    {
     "name": "stdout",
     "output_type": "stream",
     "text": [
      "There was a 3.41 ppm increase of CO2 in 2016 compared to 2015\n"
     ]
    }
   ],
   "source": [
    "for year, co2_level in co2_data[1:]:                                                 # Skip the first year since there is no previous year\n",
    "  previous_year, previous_co2_level = co2_data[year - 2000 - 1]                      # previous_year and pervious_co2_level unpack elements from one previous element\n",
    "  change_in_co2 = co2_level - previous_co2_level\n",
    "\n",
    "  if change_in_co2 >= 3:                                                             # Check if the change in CO2 is at least 3 ppm\n",
    "    print(f\"There was a {change_in_co2:.3} ppm increase of CO2 in {year} compared to {year-1}\")   # Leaves the increase to 3 s.f."
   ]
  }
 ],
 "metadata": {
  "kernelspec": {
   "display_name": "Python 3 (ipykernel)",
   "language": "python",
   "name": "python3"
  },
  "language_info": {
   "codemirror_mode": {
    "name": "ipython",
    "version": 3
   },
   "file_extension": ".py",
   "mimetype": "text/x-python",
   "name": "python",
   "nbconvert_exporter": "python",
   "pygments_lexer": "ipython3",
   "version": "3.11.5"
  },
  "toc": {
   "base_numbering": 1,
   "nav_menu": {},
   "number_sections": true,
   "sideBar": true,
   "skip_h1_title": false,
   "title_cell": "Table of Contents",
   "title_sidebar": "Contents",
   "toc_cell": false,
   "toc_position": {},
   "toc_section_display": true,
   "toc_window_display": false
  },
  "vscode": {
   "interpreter": {
    "hash": "31f2aee4e71d21fbe5cf8b01ff0e069b9275f58929596ceb00d14d90e3e16cd6"
   }
  }
 },
 "nbformat": 4,
 "nbformat_minor": 5
}
