{
 "cells": [
  {
   "attachments": {},
   "cell_type": "markdown",
   "id": "123456",
   "metadata": {},
   "source": [
    "<div style=\"text-align:left;font-size:2em\"><span style=\"font-weight:bolder;font-size:1.25em\">SP2273 | Learning Portfolio</span><br><br><span style=\"font-weight:bold;color:darkred\">Storing Data (Good) Exercises</span></div>"
   ]
  },
  {
   "cell_type": "markdown",
   "id": "3183a654-2d1c-452c-b3ca-62e045917687",
   "metadata": {},
   "source": [
    "# Exercise 1"
   ]
  },
  {
   "cell_type": "markdown",
   "id": "14950f22-3a65-404c-9857-b7f9ae4e716d",
   "metadata": {},
   "source": [
    "Purely from memory, write short descriptions of the following terms:\n",
    "\n",
    "1. Subsetting\n",
    "- *To select elements from a list or array*\n",
    "\n",
    "1. Indexing\n",
    "- *To select one element from a list or array*\n",
    "\n",
    "1. Slicing\n",
    "- To choose a set of elements within a list or array from a specified range\n",
    "\n",
    "1. Masking\n",
    "- To choose a set of elements from a list or array that satisfy certain criteria"
   ]
  },
  {
   "cell_type": "markdown",
   "id": "610876ca-b980-49ba-8f97-e7bcb3f31a0e",
   "metadata": {},
   "source": [
    "# Exercise 2"
   ]
  },
  {
   "cell_type": "code",
   "execution_count": 2,
   "id": "2ec731e9-1c6c-4aec-8c71-b510677d2ede",
   "metadata": {},
   "outputs": [],
   "source": [
    "import numpy as np"
   ]
  },
  {
   "cell_type": "code",
   "execution_count": 3,
   "id": "73cd590c-9f98-4711-839a-804a610a1b96",
   "metadata": {},
   "outputs": [],
   "source": [
    "np_array_2d = np.array([[1, \"A\"], [3, \"C\"], [2, \"B\"], [4, \"D\"],\n",
    "                        [5, \"E\"], [7, \"G\"], [6, \"F\"], [8, \"H\"],\n",
    "                        [10, \"J\"], [9, \"I\"]])"
   ]
  },
  {
   "cell_type": "markdown",
   "id": "47dc2a08-1349-445f-99d3-216942d5c2a0",
   "metadata": {},
   "source": [
    "Use masking to subset the letters that correspond to the odd numbers. i.e., get the result `[A, C, E, G, I]`."
   ]
  },
  {
   "cell_type": "code",
   "execution_count": 4,
   "id": "0d859d6f-fb68-4e8a-8642-08d50ea09546",
   "metadata": {},
   "outputs": [
    {
     "data": {
      "text/plain": [
       "array(['1', '3', '2', '4', '5', '7', '6', '8', '10', '9'], dtype='<U11')"
      ]
     },
     "execution_count": 4,
     "metadata": {},
     "output_type": "execute_result"
    }
   ],
   "source": [
    "numbers_array=np_array_2d[:, 0]\n",
    "numbers_array"
   ]
  },
  {
   "cell_type": "code",
   "execution_count": 20,
   "id": "7330a908-8c3e-4542-88cb-2797ac165fd8",
   "metadata": {},
   "outputs": [],
   "source": [
    "numbers_array = numbers_array.astype(int)"
   ]
  },
  {
   "cell_type": "code",
   "execution_count": 21,
   "id": "11dfa53d-f5fa-40b1-b454-919484f2fc4b",
   "metadata": {},
   "outputs": [
    {
     "data": {
      "text/plain": [
       "array([1, 1, 0, 0, 1, 1, 0, 0, 0, 1], dtype=int32)"
      ]
     },
     "execution_count": 21,
     "metadata": {},
     "output_type": "execute_result"
    }
   ],
   "source": [
    "numbers_array%2"
   ]
  },
  {
   "cell_type": "code",
   "execution_count": 26,
   "id": "e396c944-4b1c-4967-adeb-903e77b5f58b",
   "metadata": {},
   "outputs": [
    {
     "data": {
      "text/plain": [
       "array([1, 1, 0, 0, 1, 1, 0, 0, 0, 1], dtype=int32)"
      ]
     },
     "execution_count": 26,
     "metadata": {},
     "output_type": "execute_result"
    }
   ],
   "source": [
    "new_numbers=numbers_array%2\n",
    "new_numbers"
   ]
  },
  {
   "cell_type": "code",
   "execution_count": 27,
   "id": "ac4d4950-8e37-4d2f-9d06-62dec4292e29",
   "metadata": {},
   "outputs": [
    {
     "data": {
      "text/plain": [
       "array([ True,  True, False, False,  True,  True, False, False, False,\n",
       "        True])"
      ]
     },
     "execution_count": 27,
     "metadata": {},
     "output_type": "execute_result"
    }
   ],
   "source": [
    "odd_numbers_mask = new_numbers > 0\n",
    "odd_numbers_mask"
   ]
  },
  {
   "cell_type": "code",
   "execution_count": 28,
   "id": "e8303e1e-18cc-4b0f-b048-a6f168a59496",
   "metadata": {},
   "outputs": [
    {
     "data": {
      "text/plain": [
       "array(['A', 'C', 'E', 'G', 'I'], dtype='<U11')"
      ]
     },
     "execution_count": 28,
     "metadata": {},
     "output_type": "execute_result"
    }
   ],
   "source": [
    "np_array_2d[odd_numbers_mask, 1]"
   ]
  }
 ],
 "metadata": {
  "kernelspec": {
   "display_name": "Python 3 (ipykernel)",
   "language": "python",
   "name": "python3"
  },
  "language_info": {
   "codemirror_mode": {
    "name": "ipython",
    "version": 3
   },
   "file_extension": ".py",
   "mimetype": "text/x-python",
   "name": "python",
   "nbconvert_exporter": "python",
   "pygments_lexer": "ipython3",
   "version": "3.11.5"
  },
  "toc": {
   "base_numbering": 1,
   "nav_menu": {},
   "number_sections": true,
   "sideBar": true,
   "skip_h1_title": false,
   "title_cell": "Table of Contents",
   "title_sidebar": "Contents",
   "toc_cell": false,
   "toc_position": {},
   "toc_section_display": true,
   "toc_window_display": false
  },
  "vscode": {
   "interpreter": {
    "hash": "31f2aee4e71d21fbe5cf8b01ff0e069b9275f58929596ceb00d14d90e3e16cd6"
   }
  }
 },
 "nbformat": 4,
 "nbformat_minor": 5
}
