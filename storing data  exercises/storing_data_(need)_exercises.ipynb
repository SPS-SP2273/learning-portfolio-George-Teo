{
 "cells": [
  {
   "attachments": {},
   "cell_type": "markdown",
   "id": "123456",
   "metadata": {},
   "source": [
    "<div style=\"text-align:left;font-size:2em\"><span style=\"font-weight:bolder;font-size:1.25em\">SP2273 | Learning Portfolio</span><br><br><span style=\"font-weight:bold;color:darkred\">Storing Data (Need) Exercises</span></div>"
   ]
  },
  {
   "cell_type": "markdown",
   "id": "f3e49d10-0167-4d22-856c-4a8e9b62bb38",
   "metadata": {},
   "source": [
    "# Exercise 1"
   ]
  },
  {
   "cell_type": "markdown",
   "id": "7210a6af-e5b5-4a7d-ad66-71518eb1eb16",
   "metadata": {},
   "source": [
    "Purely from memory, jot down:\n",
    "\n",
    "- Two similarities between lists and arrays.\n",
    "    - Both lists and arrays can store information\n",
    "    - Both lists and arrays can have some mathematical operations performed on them\n",
    "  \n",
    "- Two differences between lists and arrays.\n",
    "    - Lists can accommodate more than one data type whereas data stored in arrays must all be of the same data type\n",
    "    - Mathematical operations performed on lists increase the size of the list whereas mathematical operations performed on arrays change the value of each data set\n",
    "\n",
    "- What is a dictionary?\n",
    "    - A dictionary is a way to store data *that has keys and values*."
   ]
  },
  {
   "cell_type": "markdown",
   "id": "6342313e-2916-408b-86d8-51608b39d6d7",
   "metadata": {},
   "source": [
    "# Exercise 2"
   ]
  },
  {
   "cell_type": "markdown",
   "id": "451857fb-b2b4-430f-a61e-fb267d4a825f",
   "metadata": {},
   "source": [
    "Modify the following code to print out all elements with an odd number. I have done the one corresponding to `i9` for you."
   ]
  },
  {
   "cell_type": "code",
   "execution_count": 2,
   "id": "f7cc6e10-a294-4047-b72e-55f705c59386",
   "metadata": {},
   "outputs": [
    {
     "name": "stdout",
     "output_type": "stream",
     "text": [
      "a1\n",
      "c3\n",
      "e5\n",
      "g7\n",
      "i9\n"
     ]
    }
   ],
   "source": [
    "py_list = [\"a1\", \"b2\", \"c3\", \"d4\", \"e5\", \"f6\", \"g7\", \"h8\", \"i9\", \"j10\"]\n",
    "\n",
    "print(py_list[0]) # Prints 'a1'\n",
    "print(py_list[2]) # Prints 'c3'\n",
    "print(py_list[4]) # Prints 'e5'\n",
    "print(py_list[6]) # Prints 'g7'\n",
    "print(py_list[8]) # Prints 'i9'"
   ]
  },
  {
   "cell_type": "markdown",
   "id": "d82b630f-a4aa-4871-95c7-909568d62c02",
   "metadata": {},
   "source": [
    "# Exercise 3"
   ]
  },
  {
   "cell_type": "markdown",
   "id": "a1b1ae39-762d-44d8-a7d7-96b8717a7bf1",
   "metadata": {},
   "source": [
    "Given the following list in Python:"
   ]
  },
  {
   "cell_type": "code",
   "execution_count": 3,
   "id": "e1868a9f-b888-4404-8847-a98597c95352",
   "metadata": {},
   "outputs": [],
   "source": [
    "elements = ['Hydrogen',\n",
    "            'Helium', 'Lithium',\n",
    "            'Beryllium', 'Boron', 'Carbon',\n",
    "            'Nitrogen', 'Oxygen',\n",
    "            'Fluorine',\n",
    "            'Neon']"
   ]
  },
  {
   "cell_type": "markdown",
   "id": "4f6e72ba-c802-4373-a80e-f80ab9d9f7a6",
   "metadata": {},
   "source": [
    "1. Access and print the element at index 4 using forward indexing.\r",
    "1. \n",
    "Access and print the element at index 4 from the end of the list using reverse indexing."
   ]
  },
  {
   "cell_type": "code",
   "execution_count": 4,
   "id": "a5aad314-491b-4cb4-b566-4b25c15f6f68",
   "metadata": {},
   "outputs": [
    {
     "name": "stdout",
     "output_type": "stream",
     "text": [
      "Boron\n"
     ]
    }
   ],
   "source": [
    "print(elements[4])"
   ]
  },
  {
   "cell_type": "code",
   "execution_count": 5,
   "id": "22a0c884-5edf-4f41-9216-2fbd69b90d02",
   "metadata": {},
   "outputs": [
    {
     "name": "stdout",
     "output_type": "stream",
     "text": [
      "Boron\n"
     ]
    }
   ],
   "source": [
    "print(elements[-6])"
   ]
  },
  {
   "cell_type": "markdown",
   "id": "a64cef43-3e9d-409f-8cef-0de6d8a5372d",
   "metadata": {},
   "source": [
    "# Exercise 4"
   ]
  },
  {
   "cell_type": "markdown",
   "id": "6b146660-ba17-4a61-909a-618b53c7613e",
   "metadata": {},
   "source": [
    "Use the concepts you learned in this chapter to determine the number of 1’s in the following list of numbers."
   ]
  },
  {
   "cell_type": "code",
   "execution_count": 6,
   "id": "986acb66-34a9-4727-9c8a-a9757e8c976f",
   "metadata": {},
   "outputs": [],
   "source": [
    "numbers=[45, 60, 1, 30, 96, 1, 96, 57, 16, 1,\n",
    "        99, 62, 86, 43, 42, 60, 59, 1, 1, 35,\n",
    "        83, 47, 34, 28, 68, 23, 22, 92, 1, 79,\n",
    "        1, 29, 94, 72, 46, 47, 1, 74, 32, 20,\n",
    "        8, 37, 35, 1, 89, 29, 86, 19, 43, 61]"
   ]
  },
  {
   "cell_type": "code",
   "execution_count": 9,
   "id": "f5a1d491-6ec8-447f-8655-1dcdec1a7326",
   "metadata": {},
   "outputs": [
    {
     "data": {
      "text/plain": [
       "9"
      ]
     },
     "execution_count": 9,
     "metadata": {},
     "output_type": "execute_result"
    }
   ],
   "source": [
    "import numpy as np\n",
    "np_array = np.array(numbers)\n",
    "sum(np_array == 1)"
   ]
  },
  {
   "cell_type": "markdown",
   "id": "61600d52-b63c-4c23-b092-7add90eb21a1",
   "metadata": {},
   "source": [
    "There are **nine** number '1's in the list above."
   ]
  }
 ],
 "metadata": {
  "kernelspec": {
   "display_name": "Python 3 (ipykernel)",
   "language": "python",
   "name": "python3"
  },
  "language_info": {
   "codemirror_mode": {
    "name": "ipython",
    "version": 3
   },
   "file_extension": ".py",
   "mimetype": "text/x-python",
   "name": "python",
   "nbconvert_exporter": "python",
   "pygments_lexer": "ipython3",
   "version": "3.11.5"
  },
  "toc": {
   "base_numbering": 1,
   "nav_menu": {},
   "number_sections": true,
   "sideBar": true,
   "skip_h1_title": false,
   "title_cell": "Table of Contents",
   "title_sidebar": "Contents",
   "toc_cell": false,
   "toc_position": {},
   "toc_section_display": true,
   "toc_window_display": false
  },
  "vscode": {
   "interpreter": {
    "hash": "31f2aee4e71d21fbe5cf8b01ff0e069b9275f58929596ceb00d14d90e3e16cd6"
   }
  }
 },
 "nbformat": 4,
 "nbformat_minor": 5
}
