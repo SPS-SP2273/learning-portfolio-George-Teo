{
 "cells": [
  {
   "attachments": {},
   "cell_type": "markdown",
   "id": "123456",
   "metadata": {},
   "source": [
    "<div style=\"text-align:left;font-size:2em\"><span style=\"font-weight:bolder;font-size:1.25em\">SP2273 | Learning Portfolio</span><br><br><span style=\"font-weight:bold;color:darkred\">Files, Folders & OS (Need) Exercises</span></div>"
   ]
  },
  {
   "cell_type": "markdown",
   "id": "41c019aa-bfa6-40c6-9b57-225f8860ee38",
   "metadata": {},
   "source": [
    "# Task 1"
   ]
  },
  {
   "cell_type": "code",
   "execution_count": 1,
   "id": "cc8bf96c-3fdb-4996-9332-b43a9ffe796d",
   "metadata": {},
   "outputs": [],
   "source": [
    "months_to_numbers = {                               # Creates a dictionary\n",
    "'jan': '01', 'feb': '02', 'mar': '03',\n",
    "'apr': '04', 'may': '05', 'jun': '06',\n",
    "'jul': '07', 'aug': '08', 'sep': '09',\n",
    "'oct': '10', 'nov': '11', 'dec': '12'\n",
    "}"
   ]
  },
  {
   "cell_type": "code",
   "execution_count": 2,
   "id": "26d1ab6c-8eac-4969-95ea-dd4371dddee1",
   "metadata": {},
   "outputs": [
    {
     "name": "stdout",
     "output_type": "stream",
     "text": [
      "10-08-singapore.txt\n"
     ]
    }
   ],
   "source": [
    "name = 'oct-08_singapore.txt'\n",
    "month = name.split('-')[0]                           # Seperates the name of the month\n",
    "month_number = months_to_numbers[month]               # Creates a variable that corresponds to the month number using the name of the month as the key\n",
    "rest = name.split('-')[1]\n",
    "year = rest.split('_')[0]\n",
    "city = rest.split('_')[1]\n",
    "print(f'{month_number}-{year}-{city}')"
   ]
  },
  {
   "cell_type": "markdown",
   "id": "edbcc466-b303-4058-876b-2b459789b874",
   "metadata": {},
   "source": [
    "# Task 2"
   ]
  },
  {
   "cell_type": "code",
   "execution_count": 3,
   "id": "6a73594a-575f-450d-805d-bcdf16298100",
   "metadata": {},
   "outputs": [],
   "source": [
    "def rename_my_file(old_file_name):\n",
    "    month = old_file_name.split('-')[0]\n",
    "    month_number = months_to_numbers[month]\n",
    "    rest = old_file_name.split('-')[1]\n",
    "    year = rest.split('_')[0]\n",
    "    city = rest.split('_')[1]\n",
    "    new_file_name = f'{month_number}-{year}-{city}'\n",
    "    return new_file_name"
   ]
  },
  {
   "cell_type": "code",
   "execution_count": 4,
   "id": "9bf6d71f-f5c7-4f66-80b5-2ce29290817e",
   "metadata": {},
   "outputs": [
    {
     "data": {
      "text/plain": [
       "'09-25-shanghai.txt'"
      ]
     },
     "execution_count": 4,
     "metadata": {},
     "output_type": "execute_result"
    }
   ],
   "source": [
    "rename_my_file('sep-25_shanghai.txt')"
   ]
  },
  {
   "cell_type": "markdown",
   "id": "982f2836-e658-4bc4-ba07-db066d4065f0",
   "metadata": {},
   "source": [
    "# Task 3"
   ]
  },
  {
   "cell_type": "code",
   "execution_count": 5,
   "id": "46887cae-0031-48ea-982a-13c94b495bbe",
   "metadata": {},
   "outputs": [
    {
     "name": "stdout",
     "output_type": "stream",
     "text": [
      "oct-13_singapore.txt ----> 10-13-singapore.txt\n",
      "jul-10_cairo.txt ----> 07-10-cairo.txt\n",
      "may-15_dhaka.txt ----> 05-15-dhaka.txt\n",
      "may-13_cairo.txt ----> 05-13-cairo.txt\n",
      "oct-21_cairo.txt ----> 10-21-cairo.txt\n",
      "jan-10_singapore.txt ----> 01-10-singapore.txt\n",
      "jun-20_tokyo.txt ----> 06-20-tokyo.txt\n",
      "aug-06_jakarta.txt ----> 08-06-jakarta.txt\n",
      "dec-21_karachi.txt ----> 12-21-karachi.txt\n",
      "jan-01_tokyo.txt ----> 01-01-tokyo.txt\n"
     ]
    }
   ],
   "source": [
    "list_of_files = ['oct-13_singapore.txt', 'jul-10_cairo.txt', 'may-15_dhaka.txt',\n",
    " 'may-13_cairo.txt', 'oct-21_cairo.txt', 'jan-10_singapore.txt',\n",
    " 'jun-20_tokyo.txt', 'aug-06_jakarta.txt', 'dec-21_karachi.txt',\n",
    " 'jan-01_tokyo.txt']\n",
    "\n",
    "for name in list_of_files:\n",
    "    rename_my_file(name)\n",
    "    print(name, '---->', rename_my_file(name))"
   ]
  },
  {
   "cell_type": "markdown",
   "id": "0b471668-9034-4f9e-ad85-b580d11f18f8",
   "metadata": {},
   "source": [
    "# Task 4"
   ]
  },
  {
   "cell_type": "code",
   "execution_count": 6,
   "id": "49d54b3e-4c13-4277-9ccf-5fb06a83c1c9",
   "metadata": {},
   "outputs": [
    {
     "name": "stdout",
     "output_type": "stream",
     "text": [
      "os-collaboration-exercise-data\\apr-01_melbourne.txt\n"
     ]
    }
   ],
   "source": [
    "import os\n",
    "import glob\n",
    "\n",
    "folder = 'os-collaboration-exercise-data'\n",
    "list_of_text_files = glob.glob(os.path.join(folder, '**.txt'), recursive=True)         # Create a list of all .txt files\n",
    "print(list_of_text_files[0])                                                           # Prints just the first one to check whether it worked"
   ]
  },
  {
   "cell_type": "code",
   "execution_count": 7,
   "id": "3cdc209b-5292-4bca-a1f3-fb959639f88d",
   "metadata": {},
   "outputs": [],
   "source": [
    "def rename_my_file(old_file_with_directory):\n",
    "    old_file_name = os.path.split(old_file_with_directory)[1]                          # Only takes the name of the file itself\n",
    "    month = old_file_name.split('-')[0]\n",
    "    month_number = months_to_numbers[month]\n",
    "    rest = old_file_name.split('-')[1]\n",
    "    year = rest.split('_')[0]\n",
    "    city = rest.split('_')[1]\n",
    "    new_file_name = f'{month_number}-{year}-{city}'\n",
    "    os.rename(old_file_with_directory, os.path.join(folder, new_file_name))"
   ]
  },
  {
   "cell_type": "code",
   "execution_count": 8,
   "id": "7ec022df-5d2e-4639-91a8-5d9ddf68ec28",
   "metadata": {},
   "outputs": [],
   "source": [
    "for file in list_of_text_files:\n",
    "    rename_my_file(file)"
   ]
  },
  {
   "cell_type": "markdown",
   "id": "fda40ca6-10fd-4c5b-88c6-586e289e1552",
   "metadata": {},
   "source": [
    "# Task 5"
   ]
  },
  {
   "cell_type": "code",
   "execution_count": 9,
   "id": "42c1e90f-5ce7-412d-80f2-d7fe3bbfc4cd",
   "metadata": {},
   "outputs": [
    {
     "ename": "FileExistsError",
     "evalue": "[WinError 183] Cannot create a file when that file already exists: 'os-collaboration-exercise-data\\\\Cities'",
     "output_type": "error",
     "traceback": [
      "\u001b[1;31m---------------------------------------------------------------------------\u001b[0m",
      "\u001b[1;31mFileExistsError\u001b[0m                           Traceback (most recent call last)",
      "Cell \u001b[1;32mIn[9], line 5\u001b[0m\n\u001b[0;32m      1\u001b[0m list_of_cities \u001b[38;5;241m=\u001b[39m [\u001b[38;5;124m'\u001b[39m\u001b[38;5;124mCairo\u001b[39m\u001b[38;5;124m'\u001b[39m, \u001b[38;5;124m'\u001b[39m\u001b[38;5;124mDhaka\u001b[39m\u001b[38;5;124m'\u001b[39m, \u001b[38;5;124m'\u001b[39m\u001b[38;5;124mJakarta\u001b[39m\u001b[38;5;124m'\u001b[39m, \u001b[38;5;124m'\u001b[39m\u001b[38;5;124mKarachi\u001b[39m\u001b[38;5;124m'\u001b[39m, \u001b[38;5;124m'\u001b[39m\u001b[38;5;124mManila\u001b[39m\u001b[38;5;124m'\u001b[39m,\n\u001b[0;32m      2\u001b[0m  \u001b[38;5;124m'\u001b[39m\u001b[38;5;124mMelbourne\u001b[39m\u001b[38;5;124m'\u001b[39m, \u001b[38;5;124m'\u001b[39m\u001b[38;5;124mOsaka\u001b[39m\u001b[38;5;124m'\u001b[39m, \u001b[38;5;124m'\u001b[39m\u001b[38;5;124mShanghai\u001b[39m\u001b[38;5;124m'\u001b[39m, \u001b[38;5;124m'\u001b[39m\u001b[38;5;124mSingapore\u001b[39m\u001b[38;5;124m'\u001b[39m, \u001b[38;5;124m'\u001b[39m\u001b[38;5;124mTokyo\u001b[39m\u001b[38;5;124m'\u001b[39m]\n\u001b[0;32m      4\u001b[0m cities_folder \u001b[38;5;241m=\u001b[39m os\u001b[38;5;241m.\u001b[39mpath\u001b[38;5;241m.\u001b[39mjoin(folder, \u001b[38;5;124m'\u001b[39m\u001b[38;5;124mCities\u001b[39m\u001b[38;5;124m'\u001b[39m)             \u001b[38;5;66;03m# The path to where the main 'Cities' folder will be\u001b[39;00m\n\u001b[1;32m----> 5\u001b[0m \u001b[43mos\u001b[49m\u001b[38;5;241;43m.\u001b[39;49m\u001b[43mmkdir\u001b[49m\u001b[43m(\u001b[49m\u001b[43mcities_folder\u001b[49m\u001b[43m)\u001b[49m                                    \u001b[38;5;66;03m# First, create a folder called 'Cities'\u001b[39;00m\n\u001b[0;32m      7\u001b[0m \u001b[38;5;28;01mfor\u001b[39;00m city \u001b[38;5;129;01min\u001b[39;00m list_of_cities:\n\u001b[0;32m      8\u001b[0m     subfolder \u001b[38;5;241m=\u001b[39m os\u001b[38;5;241m.\u001b[39mpath\u001b[38;5;241m.\u001b[39mjoin(folder, \u001b[38;5;124m'\u001b[39m\u001b[38;5;124mCities\u001b[39m\u001b[38;5;124m'\u001b[39m, city)               \u001b[38;5;66;03m# Create the subfolders within the 'Cities' folder\u001b[39;00m\n",
      "\u001b[1;31mFileExistsError\u001b[0m: [WinError 183] Cannot create a file when that file already exists: 'os-collaboration-exercise-data\\\\Cities'"
     ]
    }
   ],
   "source": [
    "list_of_cities = ['Cairo', 'Dhaka', 'Jakarta', 'Karachi', 'Manila',\n",
    " 'Melbourne', 'Osaka', 'Shanghai', 'Singapore', 'Tokyo']\n",
    "\n",
    "cities_folder = os.path.join(folder, 'Cities')             # The path to where the main 'Cities' folder will be\n",
    "os.mkdir(cities_folder)                                    # First, create a folder called 'Cities'\n",
    "\n",
    "for city in list_of_cities:\n",
    "    subfolder = os.path.join(folder, 'Cities', city)               # Create the subfolders within the 'Cities' folder\n",
    "    print(f'Creating {subfolder}')\n",
    "    os.mkdir(subfolder)"
   ]
  },
  {
   "cell_type": "markdown",
   "id": "c1ac6827-e340-4c80-adf7-b40ca55f2c4c",
   "metadata": {},
   "source": [
    "# Task 6"
   ]
  },
  {
   "cell_type": "code",
   "execution_count": 10,
   "id": "300af5c7-7462-41eb-be6b-f18589ebfe14",
   "metadata": {},
   "outputs": [
    {
     "data": {
      "text/plain": [
       "['os-collaboration-exercise-data\\\\01-02-cairo.txt',\n",
       " 'os-collaboration-exercise-data\\\\01-03-cairo.txt',\n",
       " 'os-collaboration-exercise-data\\\\01-04-cairo.txt',\n",
       " 'os-collaboration-exercise-data\\\\01-05-cairo.txt',\n",
       " 'os-collaboration-exercise-data\\\\01-07-cairo.txt',\n",
       " 'os-collaboration-exercise-data\\\\01-08-cairo.txt',\n",
       " 'os-collaboration-exercise-data\\\\01-09-cairo.txt',\n",
       " 'os-collaboration-exercise-data\\\\01-11-cairo.txt',\n",
       " 'os-collaboration-exercise-data\\\\01-12-cairo.txt',\n",
       " 'os-collaboration-exercise-data\\\\01-13-cairo.txt',\n",
       " 'os-collaboration-exercise-data\\\\01-15-cairo.txt',\n",
       " 'os-collaboration-exercise-data\\\\01-16-cairo.txt',\n",
       " 'os-collaboration-exercise-data\\\\01-19-cairo.txt',\n",
       " 'os-collaboration-exercise-data\\\\01-20-cairo.txt',\n",
       " 'os-collaboration-exercise-data\\\\01-21-cairo.txt',\n",
       " 'os-collaboration-exercise-data\\\\01-23-cairo.txt',\n",
       " 'os-collaboration-exercise-data\\\\01-27-cairo.txt',\n",
       " 'os-collaboration-exercise-data\\\\01-30-cairo.txt',\n",
       " 'os-collaboration-exercise-data\\\\02-10-cairo.txt',\n",
       " 'os-collaboration-exercise-data\\\\02-17-cairo.txt',\n",
       " 'os-collaboration-exercise-data\\\\02-20-cairo.txt',\n",
       " 'os-collaboration-exercise-data\\\\02-22-cairo.txt',\n",
       " 'os-collaboration-exercise-data\\\\02-25-cairo.txt',\n",
       " 'os-collaboration-exercise-data\\\\02-26-cairo.txt',\n",
       " 'os-collaboration-exercise-data\\\\03-05-cairo.txt',\n",
       " 'os-collaboration-exercise-data\\\\03-06-cairo.txt',\n",
       " 'os-collaboration-exercise-data\\\\03-12-cairo.txt',\n",
       " 'os-collaboration-exercise-data\\\\03-14-cairo.txt',\n",
       " 'os-collaboration-exercise-data\\\\03-19-cairo.txt',\n",
       " 'os-collaboration-exercise-data\\\\03-24-cairo.txt',\n",
       " 'os-collaboration-exercise-data\\\\04-02-cairo.txt',\n",
       " 'os-collaboration-exercise-data\\\\04-06-cairo.txt',\n",
       " 'os-collaboration-exercise-data\\\\04-07-cairo.txt',\n",
       " 'os-collaboration-exercise-data\\\\04-10-cairo.txt',\n",
       " 'os-collaboration-exercise-data\\\\04-12-cairo.txt',\n",
       " 'os-collaboration-exercise-data\\\\04-13-cairo.txt',\n",
       " 'os-collaboration-exercise-data\\\\04-14-cairo.txt',\n",
       " 'os-collaboration-exercise-data\\\\04-15-cairo.txt',\n",
       " 'os-collaboration-exercise-data\\\\04-17-cairo.txt',\n",
       " 'os-collaboration-exercise-data\\\\04-20-cairo.txt',\n",
       " 'os-collaboration-exercise-data\\\\04-21-cairo.txt',\n",
       " 'os-collaboration-exercise-data\\\\04-22-cairo.txt',\n",
       " 'os-collaboration-exercise-data\\\\04-23-cairo.txt',\n",
       " 'os-collaboration-exercise-data\\\\04-24-cairo.txt',\n",
       " 'os-collaboration-exercise-data\\\\05-01-cairo.txt',\n",
       " 'os-collaboration-exercise-data\\\\05-02-cairo.txt',\n",
       " 'os-collaboration-exercise-data\\\\05-12-cairo.txt',\n",
       " 'os-collaboration-exercise-data\\\\05-17-cairo.txt',\n",
       " 'os-collaboration-exercise-data\\\\05-25-cairo.txt',\n",
       " 'os-collaboration-exercise-data\\\\05-27-cairo.txt',\n",
       " 'os-collaboration-exercise-data\\\\05-29-cairo.txt',\n",
       " 'os-collaboration-exercise-data\\\\05-30-cairo.txt',\n",
       " 'os-collaboration-exercise-data\\\\06-28-cairo.txt',\n",
       " 'os-collaboration-exercise-data\\\\07-04-cairo.txt',\n",
       " 'os-collaboration-exercise-data\\\\07-08-cairo.txt',\n",
       " 'os-collaboration-exercise-data\\\\07-10-cairo.txt',\n",
       " 'os-collaboration-exercise-data\\\\07-13-cairo.txt',\n",
       " 'os-collaboration-exercise-data\\\\07-14-cairo.txt',\n",
       " 'os-collaboration-exercise-data\\\\07-15-cairo.txt',\n",
       " 'os-collaboration-exercise-data\\\\07-16-cairo.txt',\n",
       " 'os-collaboration-exercise-data\\\\07-17-cairo.txt',\n",
       " 'os-collaboration-exercise-data\\\\07-19-cairo.txt',\n",
       " 'os-collaboration-exercise-data\\\\07-24-cairo.txt',\n",
       " 'os-collaboration-exercise-data\\\\07-26-cairo.txt',\n",
       " 'os-collaboration-exercise-data\\\\07-27-cairo.txt',\n",
       " 'os-collaboration-exercise-data\\\\07-29-cairo.txt',\n",
       " 'os-collaboration-exercise-data\\\\07-30-cairo.txt',\n",
       " 'os-collaboration-exercise-data\\\\08-01-cairo.txt',\n",
       " 'os-collaboration-exercise-data\\\\08-03-cairo.txt',\n",
       " 'os-collaboration-exercise-data\\\\08-04-cairo.txt',\n",
       " 'os-collaboration-exercise-data\\\\08-05-cairo.txt',\n",
       " 'os-collaboration-exercise-data\\\\08-07-cairo.txt',\n",
       " 'os-collaboration-exercise-data\\\\08-08-cairo.txt',\n",
       " 'os-collaboration-exercise-data\\\\08-10-cairo.txt',\n",
       " 'os-collaboration-exercise-data\\\\08-12-cairo.txt',\n",
       " 'os-collaboration-exercise-data\\\\08-14-cairo.txt',\n",
       " 'os-collaboration-exercise-data\\\\08-18-cairo.txt',\n",
       " 'os-collaboration-exercise-data\\\\08-19-cairo.txt',\n",
       " 'os-collaboration-exercise-data\\\\08-20-cairo.txt',\n",
       " 'os-collaboration-exercise-data\\\\08-24-cairo.txt',\n",
       " 'os-collaboration-exercise-data\\\\08-25-cairo.txt',\n",
       " 'os-collaboration-exercise-data\\\\08-26-cairo.txt',\n",
       " 'os-collaboration-exercise-data\\\\09-02-cairo.txt',\n",
       " 'os-collaboration-exercise-data\\\\09-04-cairo.txt',\n",
       " 'os-collaboration-exercise-data\\\\09-05-cairo.txt',\n",
       " 'os-collaboration-exercise-data\\\\09-07-cairo.txt',\n",
       " 'os-collaboration-exercise-data\\\\09-08-cairo.txt',\n",
       " 'os-collaboration-exercise-data\\\\09-11-cairo.txt',\n",
       " 'os-collaboration-exercise-data\\\\09-12-cairo.txt',\n",
       " 'os-collaboration-exercise-data\\\\09-13-cairo.txt',\n",
       " 'os-collaboration-exercise-data\\\\09-16-cairo.txt',\n",
       " 'os-collaboration-exercise-data\\\\09-18-cairo.txt',\n",
       " 'os-collaboration-exercise-data\\\\09-20-cairo.txt',\n",
       " 'os-collaboration-exercise-data\\\\09-22-cairo.txt',\n",
       " 'os-collaboration-exercise-data\\\\09-23-cairo.txt',\n",
       " 'os-collaboration-exercise-data\\\\09-24-cairo.txt',\n",
       " 'os-collaboration-exercise-data\\\\09-25-cairo.txt',\n",
       " 'os-collaboration-exercise-data\\\\09-26-cairo.txt',\n",
       " 'os-collaboration-exercise-data\\\\09-28-cairo.txt',\n",
       " 'os-collaboration-exercise-data\\\\10-23-cairo.txt',\n",
       " 'os-collaboration-exercise-data\\\\11-03-cairo.txt',\n",
       " 'os-collaboration-exercise-data\\\\11-04-cairo.txt',\n",
       " 'os-collaboration-exercise-data\\\\11-05-cairo.txt',\n",
       " 'os-collaboration-exercise-data\\\\11-10-cairo.txt',\n",
       " 'os-collaboration-exercise-data\\\\11-14-cairo.txt',\n",
       " 'os-collaboration-exercise-data\\\\11-17-cairo.txt',\n",
       " 'os-collaboration-exercise-data\\\\11-19-cairo.txt',\n",
       " 'os-collaboration-exercise-data\\\\11-21-cairo.txt',\n",
       " 'os-collaboration-exercise-data\\\\11-29-cairo.txt',\n",
       " 'os-collaboration-exercise-data\\\\12-01-cairo.txt',\n",
       " 'os-collaboration-exercise-data\\\\12-03-cairo.txt',\n",
       " 'os-collaboration-exercise-data\\\\12-04-cairo.txt',\n",
       " 'os-collaboration-exercise-data\\\\12-05-cairo.txt',\n",
       " 'os-collaboration-exercise-data\\\\12-07-cairo.txt',\n",
       " 'os-collaboration-exercise-data\\\\12-09-cairo.txt',\n",
       " 'os-collaboration-exercise-data\\\\12-10-cairo.txt',\n",
       " 'os-collaboration-exercise-data\\\\12-13-cairo.txt',\n",
       " 'os-collaboration-exercise-data\\\\12-17-cairo.txt',\n",
       " 'os-collaboration-exercise-data\\\\12-18-cairo.txt',\n",
       " 'os-collaboration-exercise-data\\\\12-19-cairo.txt',\n",
       " 'os-collaboration-exercise-data\\\\12-21-cairo.txt',\n",
       " 'os-collaboration-exercise-data\\\\12-22-cairo.txt',\n",
       " 'os-collaboration-exercise-data\\\\12-23-cairo.txt',\n",
       " 'os-collaboration-exercise-data\\\\12-26-cairo.txt',\n",
       " 'os-collaboration-exercise-data\\\\12-27-cairo.txt',\n",
       " 'os-collaboration-exercise-data\\\\12-29-cairo.txt',\n",
       " 'os-collaboration-exercise-data\\\\apr-02_cairo.jpg',\n",
       " 'os-collaboration-exercise-data\\\\apr-06_cairo.png',\n",
       " 'os-collaboration-exercise-data\\\\apr-07_cairo.png',\n",
       " 'os-collaboration-exercise-data\\\\apr-10_cairo.png',\n",
       " 'os-collaboration-exercise-data\\\\apr-12_cairo.pdf',\n",
       " 'os-collaboration-exercise-data\\\\apr-12_cairo.png',\n",
       " 'os-collaboration-exercise-data\\\\apr-13_cairo.png',\n",
       " 'os-collaboration-exercise-data\\\\apr-14_cairo.jpg',\n",
       " 'os-collaboration-exercise-data\\\\apr-14_cairo.png',\n",
       " 'os-collaboration-exercise-data\\\\apr-15_cairo.jpg',\n",
       " 'os-collaboration-exercise-data\\\\apr-17_cairo.jpg',\n",
       " 'os-collaboration-exercise-data\\\\apr-17_cairo.pdf',\n",
       " 'os-collaboration-exercise-data\\\\apr-17_cairo.png',\n",
       " 'os-collaboration-exercise-data\\\\apr-20_cairo.jpg',\n",
       " 'os-collaboration-exercise-data\\\\apr-21_cairo.pdf',\n",
       " 'os-collaboration-exercise-data\\\\apr-22_cairo.pdf',\n",
       " 'os-collaboration-exercise-data\\\\apr-23_cairo.jpg',\n",
       " 'os-collaboration-exercise-data\\\\apr-24_cairo.jpg',\n",
       " 'os-collaboration-exercise-data\\\\aug-01_cairo.jpg',\n",
       " 'os-collaboration-exercise-data\\\\aug-01_cairo.png',\n",
       " 'os-collaboration-exercise-data\\\\aug-03_cairo.png',\n",
       " 'os-collaboration-exercise-data\\\\aug-04_cairo.jpg',\n",
       " 'os-collaboration-exercise-data\\\\aug-04_cairo.pdf',\n",
       " 'os-collaboration-exercise-data\\\\aug-05_cairo.pdf',\n",
       " 'os-collaboration-exercise-data\\\\aug-07_cairo.png',\n",
       " 'os-collaboration-exercise-data\\\\aug-08_cairo.jpg',\n",
       " 'os-collaboration-exercise-data\\\\aug-10_cairo.png',\n",
       " 'os-collaboration-exercise-data\\\\aug-12_cairo.jpg',\n",
       " 'os-collaboration-exercise-data\\\\aug-14_cairo.jpg',\n",
       " 'os-collaboration-exercise-data\\\\aug-14_cairo.png',\n",
       " 'os-collaboration-exercise-data\\\\aug-18_cairo.jpg',\n",
       " 'os-collaboration-exercise-data\\\\aug-19_cairo.jpg',\n",
       " 'os-collaboration-exercise-data\\\\aug-20_cairo.png',\n",
       " 'os-collaboration-exercise-data\\\\aug-24_cairo.pdf',\n",
       " 'os-collaboration-exercise-data\\\\aug-25_cairo.png',\n",
       " 'os-collaboration-exercise-data\\\\aug-26_cairo.png',\n",
       " 'os-collaboration-exercise-data\\\\dec-01_cairo.jpg',\n",
       " 'os-collaboration-exercise-data\\\\dec-03_cairo.jpg',\n",
       " 'os-collaboration-exercise-data\\\\dec-03_cairo.png',\n",
       " 'os-collaboration-exercise-data\\\\dec-04_cairo.jpg',\n",
       " 'os-collaboration-exercise-data\\\\dec-04_cairo.pdf',\n",
       " 'os-collaboration-exercise-data\\\\dec-04_cairo.png',\n",
       " 'os-collaboration-exercise-data\\\\dec-05_cairo.png',\n",
       " 'os-collaboration-exercise-data\\\\dec-07_cairo.jpg',\n",
       " 'os-collaboration-exercise-data\\\\dec-09_cairo.png',\n",
       " 'os-collaboration-exercise-data\\\\dec-10_cairo.jpg',\n",
       " 'os-collaboration-exercise-data\\\\dec-10_cairo.pdf',\n",
       " 'os-collaboration-exercise-data\\\\dec-13_cairo.pdf',\n",
       " 'os-collaboration-exercise-data\\\\dec-17_cairo.png',\n",
       " 'os-collaboration-exercise-data\\\\dec-18_cairo.jpg',\n",
       " 'os-collaboration-exercise-data\\\\dec-19_cairo.pdf',\n",
       " 'os-collaboration-exercise-data\\\\dec-21_cairo.png',\n",
       " 'os-collaboration-exercise-data\\\\dec-22_cairo.jpg',\n",
       " 'os-collaboration-exercise-data\\\\dec-23_cairo.pdf',\n",
       " 'os-collaboration-exercise-data\\\\dec-26_cairo.pdf',\n",
       " 'os-collaboration-exercise-data\\\\dec-27_cairo.png',\n",
       " 'os-collaboration-exercise-data\\\\dec-29_cairo.jpg',\n",
       " 'os-collaboration-exercise-data\\\\dec-29_cairo.png',\n",
       " 'os-collaboration-exercise-data\\\\feb-10_cairo.jpg',\n",
       " 'os-collaboration-exercise-data\\\\feb-10_cairo.pdf',\n",
       " 'os-collaboration-exercise-data\\\\feb-17_cairo.jpg',\n",
       " 'os-collaboration-exercise-data\\\\feb-20_cairo.png',\n",
       " 'os-collaboration-exercise-data\\\\feb-22_cairo.pdf',\n",
       " 'os-collaboration-exercise-data\\\\feb-22_cairo.png',\n",
       " 'os-collaboration-exercise-data\\\\feb-25_cairo.jpg',\n",
       " 'os-collaboration-exercise-data\\\\feb-25_cairo.pdf',\n",
       " 'os-collaboration-exercise-data\\\\feb-26_cairo.png',\n",
       " 'os-collaboration-exercise-data\\\\jan-02_cairo.pdf',\n",
       " 'os-collaboration-exercise-data\\\\jan-03_cairo.pdf',\n",
       " 'os-collaboration-exercise-data\\\\jan-04_cairo.jpg',\n",
       " 'os-collaboration-exercise-data\\\\jan-05_cairo.jpg',\n",
       " 'os-collaboration-exercise-data\\\\jan-07_cairo.jpg',\n",
       " 'os-collaboration-exercise-data\\\\jan-08_cairo.png',\n",
       " 'os-collaboration-exercise-data\\\\jan-09_cairo.jpg',\n",
       " 'os-collaboration-exercise-data\\\\jan-11_cairo.png',\n",
       " 'os-collaboration-exercise-data\\\\jan-12_cairo.pdf',\n",
       " 'os-collaboration-exercise-data\\\\jan-13_cairo.png',\n",
       " 'os-collaboration-exercise-data\\\\jan-15_cairo.jpg',\n",
       " 'os-collaboration-exercise-data\\\\jan-15_cairo.png',\n",
       " 'os-collaboration-exercise-data\\\\jan-16_cairo.png',\n",
       " 'os-collaboration-exercise-data\\\\jan-19_cairo.pdf',\n",
       " 'os-collaboration-exercise-data\\\\jan-20_cairo.pdf',\n",
       " 'os-collaboration-exercise-data\\\\jan-21_cairo.jpg',\n",
       " 'os-collaboration-exercise-data\\\\jan-23_cairo.png',\n",
       " 'os-collaboration-exercise-data\\\\jan-27_cairo.jpg',\n",
       " 'os-collaboration-exercise-data\\\\jan-30_cairo.pdf',\n",
       " 'os-collaboration-exercise-data\\\\jul-04_cairo.jpg',\n",
       " 'os-collaboration-exercise-data\\\\jul-08_cairo.png',\n",
       " 'os-collaboration-exercise-data\\\\jul-10_cairo.png',\n",
       " 'os-collaboration-exercise-data\\\\jul-13_cairo.png',\n",
       " 'os-collaboration-exercise-data\\\\jul-14_cairo.jpg',\n",
       " 'os-collaboration-exercise-data\\\\jul-15_cairo.pdf',\n",
       " 'os-collaboration-exercise-data\\\\jul-16_cairo.png',\n",
       " 'os-collaboration-exercise-data\\\\jul-17_cairo.pdf',\n",
       " 'os-collaboration-exercise-data\\\\jul-19_cairo.jpg',\n",
       " 'os-collaboration-exercise-data\\\\jul-24_cairo.pdf',\n",
       " 'os-collaboration-exercise-data\\\\jul-26_cairo.png',\n",
       " 'os-collaboration-exercise-data\\\\jul-27_cairo.png',\n",
       " 'os-collaboration-exercise-data\\\\jul-29_cairo.jpg',\n",
       " 'os-collaboration-exercise-data\\\\jul-30_cairo.png',\n",
       " 'os-collaboration-exercise-data\\\\jun-28_cairo.pdf',\n",
       " 'os-collaboration-exercise-data\\\\mar-05_cairo.pdf',\n",
       " 'os-collaboration-exercise-data\\\\mar-05_cairo.png',\n",
       " 'os-collaboration-exercise-data\\\\mar-06_cairo.pdf',\n",
       " 'os-collaboration-exercise-data\\\\mar-12_cairo.jpg',\n",
       " 'os-collaboration-exercise-data\\\\mar-14_cairo.pdf',\n",
       " 'os-collaboration-exercise-data\\\\mar-19_cairo.jpg',\n",
       " 'os-collaboration-exercise-data\\\\mar-24_cairo.pdf',\n",
       " 'os-collaboration-exercise-data\\\\may-01_cairo.png',\n",
       " 'os-collaboration-exercise-data\\\\may-02_cairo.png',\n",
       " 'os-collaboration-exercise-data\\\\may-12_cairo.png',\n",
       " 'os-collaboration-exercise-data\\\\may-17_cairo.png',\n",
       " 'os-collaboration-exercise-data\\\\may-25_cairo.png',\n",
       " 'os-collaboration-exercise-data\\\\may-27_cairo.pdf',\n",
       " 'os-collaboration-exercise-data\\\\may-29_cairo.pdf',\n",
       " 'os-collaboration-exercise-data\\\\may-30_cairo.jpg',\n",
       " 'os-collaboration-exercise-data\\\\may-30_cairo.png',\n",
       " 'os-collaboration-exercise-data\\\\nov-03_cairo.png',\n",
       " 'os-collaboration-exercise-data\\\\nov-04_cairo.pdf',\n",
       " 'os-collaboration-exercise-data\\\\nov-05_cairo.jpg',\n",
       " 'os-collaboration-exercise-data\\\\nov-05_cairo.png',\n",
       " 'os-collaboration-exercise-data\\\\nov-10_cairo.pdf',\n",
       " 'os-collaboration-exercise-data\\\\nov-14_cairo.pdf',\n",
       " 'os-collaboration-exercise-data\\\\nov-17_cairo.pdf',\n",
       " 'os-collaboration-exercise-data\\\\nov-19_cairo.jpg',\n",
       " 'os-collaboration-exercise-data\\\\nov-21_cairo.pdf',\n",
       " 'os-collaboration-exercise-data\\\\nov-29_cairo.pdf',\n",
       " 'os-collaboration-exercise-data\\\\oct-23_cairo.jpg',\n",
       " 'os-collaboration-exercise-data\\\\sep-02_cairo.png',\n",
       " 'os-collaboration-exercise-data\\\\sep-04_cairo.pdf',\n",
       " 'os-collaboration-exercise-data\\\\sep-05_cairo.pdf',\n",
       " 'os-collaboration-exercise-data\\\\sep-07_cairo.jpg',\n",
       " 'os-collaboration-exercise-data\\\\sep-08_cairo.pdf',\n",
       " 'os-collaboration-exercise-data\\\\sep-11_cairo.png',\n",
       " 'os-collaboration-exercise-data\\\\sep-12_cairo.png',\n",
       " 'os-collaboration-exercise-data\\\\sep-13_cairo.jpg',\n",
       " 'os-collaboration-exercise-data\\\\sep-13_cairo.png',\n",
       " 'os-collaboration-exercise-data\\\\sep-16_cairo.png',\n",
       " 'os-collaboration-exercise-data\\\\sep-18_cairo.pdf',\n",
       " 'os-collaboration-exercise-data\\\\sep-20_cairo.jpg',\n",
       " 'os-collaboration-exercise-data\\\\sep-22_cairo.pdf',\n",
       " 'os-collaboration-exercise-data\\\\sep-23_cairo.pdf',\n",
       " 'os-collaboration-exercise-data\\\\sep-24_cairo.pdf',\n",
       " 'os-collaboration-exercise-data\\\\sep-25_cairo.jpg',\n",
       " 'os-collaboration-exercise-data\\\\sep-25_cairo.pdf',\n",
       " 'os-collaboration-exercise-data\\\\sep-26_cairo.pdf',\n",
       " 'os-collaboration-exercise-data\\\\sep-28_cairo.jpg',\n",
       " 'os-collaboration-exercise-data\\\\sep-28_cairo.pdf',\n",
       " 'os-collaboration-exercise-data\\\\sep-28_cairo.png']"
      ]
     },
     "execution_count": 10,
     "metadata": {},
     "output_type": "execute_result"
    }
   ],
   "source": [
    "glob.glob('os-collaboration-exercise-data\\*cairo*')"
   ]
  },
  {
   "cell_type": "code",
   "execution_count": 11,
   "id": "6502a9bd-4992-4c15-866f-ebac9590baa3",
   "metadata": {},
   "outputs": [],
   "source": [
    "import shutil\n",
    "\n",
    "list_of_cairo_files = glob.glob('os-collaboration-exercise-data\\*cairo*')         # Creates a list of all Cairo text files\n",
    "\n",
    "for cairo_file in list_of_cairo_files:\n",
    "    destination = os.path.join(folder, 'Cities', 'Cairo')                                   # The loop copies Cairo text files into the 'Cairo' folder\n",
    "    shutil.copy(cairo_file, destination)"
   ]
  },
  {
   "cell_type": "markdown",
   "id": "842b9f9d-67d7-4538-9639-277cf282b023",
   "metadata": {},
   "source": [
    "# Task 7"
   ]
  },
  {
   "cell_type": "code",
   "execution_count": 12,
   "id": "c1ae64e5-c356-404c-8c06-113235fb237c",
   "metadata": {},
   "outputs": [],
   "source": [
    "for cairo_file in list_of_cairo_files:                  # Deletes the original file in the direction since it has already been copied\n",
    "    os.remove(cairo_file)"
   ]
  },
  {
   "cell_type": "code",
   "execution_count": 13,
   "id": "e73eae47-6f6c-4d75-b28c-be856b1ad918",
   "metadata": {},
   "outputs": [
    {
     "name": "stdout",
     "output_type": "stream",
     "text": [
      "Successfully moved all Cairo files!\n",
      "Successfully moved all Dhaka files!\n",
      "Successfully moved all Jakarta files!\n",
      "Successfully moved all Karachi files!\n",
      "Successfully moved all Manila files!\n",
      "Successfully moved all Melbourne files!\n",
      "Successfully moved all Osaka files!\n",
      "Successfully moved all Shanghai files!\n",
      "Successfully moved all Singapore files!\n",
      "Successfully moved all Tokyo files!\n"
     ]
    }
   ],
   "source": [
    "for city in list_of_cities:\n",
    "    lowercase_city = city.lower()\n",
    "    city_files = glob.glob(f'os-collaboration-exercise-data\\*{lowercase_city}*', recursive=True)\n",
    "    city_destination = os.path.join(folder, 'Cities', f'{city}')\n",
    "    print(f'Successfully moved all {city} files!')\n",
    "    for file in city_files:\n",
    "        shutil.move(file, city_destination)"
   ]
  }
 ],
 "metadata": {
  "kernelspec": {
   "display_name": "Python 3 (ipykernel)",
   "language": "python",
   "name": "python3"
  },
  "language_info": {
   "codemirror_mode": {
    "name": "ipython",
    "version": 3
   },
   "file_extension": ".py",
   "mimetype": "text/x-python",
   "name": "python",
   "nbconvert_exporter": "python",
   "pygments_lexer": "ipython3",
   "version": "3.11.5"
  },
  "toc": {
   "base_numbering": 1,
   "nav_menu": {},
   "number_sections": true,
   "sideBar": true,
   "skip_h1_title": false,
   "title_cell": "Table of Contents",
   "title_sidebar": "Contents",
   "toc_cell": false,
   "toc_position": {},
   "toc_section_display": true,
   "toc_window_display": false
  },
  "vscode": {
   "interpreter": {
    "hash": "31f2aee4e71d21fbe5cf8b01ff0e069b9275f58929596ceb00d14d90e3e16cd6"
   }
  }
 },
 "nbformat": 4,
 "nbformat_minor": 5
}
