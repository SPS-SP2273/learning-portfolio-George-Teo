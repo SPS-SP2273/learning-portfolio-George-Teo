{
 "cells": [
  {
   "cell_type": "markdown",
   "id": "bad37b6a-f3c7-47c1-9833-d375f6b68e15",
   "metadata": {},
   "source": [
    "# Quadratic Equations\n",
    "## Introduction\n",
    "![](https://upload.wikimedia.org/wikipedia/commons/thumb/f/f8/Polynomialdeg2.svg/300px-Polynomialdeg2.svg.png)\n",
    "\n",
    "_(Image from the [Wikipedia page on Quadratic equations](https://en.wikipedia.org/wiki/Quadratic_equation))_\n",
    "\n",
    "The general form of a quadratic equation is:\n",
    "$$\n",
    "ax^{2} + bx + c = 0\n",
    "$$\n",
    "\n",
    "## Solutions\n",
    "Provided $a \\ne 0$, we can use an elementary algebraic method called [completing the square](https://en.wikipedia.org/wiki/Completing_the_square) to show that a quadratic equation has the following solution:\n",
    "$$\n",
    "x = \\dfrac{-b\\pm\\sqrt{b^{2}-4ac}}{2a}\n",
    "$$\n",
    "\n",
    "## Discriminant\n",
    "The quantity $\\Delta = b^{2}-4ac$ is called the **discriminant** of the equation and decides the nature of its solutions. The table below shows the various possibilities.\n",
    "\n",
    "| Discriminant                  | Roots                                |\r\n",
    "--------------------------------|--------------------------------------|\r\n",
    "| $\\Delta = b^{2}-4ac = 0     $ | A single solution of $-b/(2$a)       |\r\n",
    "| $\\Delta = b^{2}-4>c >      0$ | Two distinct solutions               |\r\n",
    "| $\\Delta = b^{2}-<ac    <   0$ | No real solutions; both are complex. |{table}"
   ]
  },
  {
   "cell_type": "markdown",
   "id": "11643d5c-9a8a-406b-830f-fc7f3ee26c52",
   "metadata": {},
   "source": [
    "1. What is a Git **repository**?\n",
    "\n",
    "    It is an online place where users can upload their code and when it is updated, other users can view the changes and version histories.\n",
    "\n",
    "2. Git keeps tracks of ______ in the files in our repository.\n",
    "\n",
    "    changes\n",
    "\n",
    "3. What is a **commit**?\n",
    "\n",
    "    To publish changes onto GitHub.\n",
    "\n",
    "4. What is a **push**?\n",
    "\n",
    "    To upload files from your local storage to the cloud server.\n",
    "\n",
    "5. What is a **pull**?\n",
    "\n",
    "    To download files from the cloud server onto your local storage.\n",
    "\n",
    "6. What is the difference between **GitHub** and **GitHub Desktop**?\n",
    "\n",
    "    GitHub uses files from the cloud server whereas its Desktop counterpart uses files from one's local storage."
   ]
  },
  {
   "cell_type": "code",
   "execution_count": null,
   "id": "ff8e8c4e-19b6-4789-a3f7-80fde6982dc6",
   "metadata": {},
   "outputs": [],
   "source": []
  }
 ],
 "metadata": {
  "kernelspec": {
   "display_name": "Python 3 (ipykernel)",
   "language": "python",
   "name": "python3"
  },
  "language_info": {
   "codemirror_mode": {
    "name": "ipython",
    "version": 3
   },
   "file_extension": ".py",
   "mimetype": "text/x-python",
   "name": "python",
   "nbconvert_exporter": "python",
   "pygments_lexer": "ipython3",
   "version": "3.11.5"
  }
 },
 "nbformat": 4,
 "nbformat_minor": 5
}
