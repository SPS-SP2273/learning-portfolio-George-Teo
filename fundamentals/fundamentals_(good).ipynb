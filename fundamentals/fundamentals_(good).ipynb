{
 "cells": [
  {
   "attachments": {},
   "cell_type": "markdown",
   "id": "123456",
   "metadata": {},
   "source": [
    "<div style=\"text-align:left;font-size:2em\"><span style=\"font-weight:bolder;font-size:1.25em\">SP2273 | Learning Portfolio</span><br><br><span style=\"font-weight:bold;color:darkred\">Fundamentals (Good)</span></div>"
   ]
  },
  {
   "attachments": {},
   "cell_type": "markdown",
   "id": "00c6ffc2",
   "metadata": {},
   "source": [
    "# There is more to if"
   ]
  },
  {
   "cell_type": "code",
   "execution_count": 1,
   "id": "876f1f05-9d51-4b46-908d-b1a191ed0dc4",
   "metadata": {
    "scrolled": true
   },
   "outputs": [
    {
     "name": "stdout",
     "output_type": "stream",
     "text": [
      "Hello Batman!\n"
     ]
    }
   ],
   "source": [
    "name = 'Batman'\n",
    "\n",
    "if name == 'Batman':\n",
    "    print('Hello Batman!')\n",
    "elif name == 'Robin':\n",
    "    print('Hello Sidekick!')\n",
    "else:\n",
    "    print('Hello World!')"
   ]
  },
  {
   "attachments": {},
   "cell_type": "markdown",
   "id": "05187d2f",
   "metadata": {},
   "source": [
    "# Asking questions"
   ]
  },
  {
   "cell_type": "code",
   "execution_count": 3,
   "id": "428aa4fe-bb1c-4009-b2c5-bde6d364559b",
   "metadata": {},
   "outputs": [
    {
     "data": {
      "text/plain": [
       "True"
      ]
     },
     "execution_count": 3,
     "metadata": {},
     "output_type": "execute_result"
    }
   ],
   "source": [
    "fruits = ['apple', 'banana', 'pineapple', 'jackfruit']\n",
    "vegetables = ['celery', 'potato', 'broccoli', 'kale']\n",
    "\n",
    "'apple' in fruits"
   ]
  },
  {
   "cell_type": "code",
   "execution_count": 4,
   "id": "2e043e94-6fde-4683-9f06-0ee601e009c3",
   "metadata": {},
   "outputs": [
    {
     "data": {
      "text/plain": [
       "False"
      ]
     },
     "execution_count": 4,
     "metadata": {},
     "output_type": "execute_result"
    }
   ],
   "source": [
    "'peach' in fruits"
   ]
  },
  {
   "attachments": {},
   "cell_type": "markdown",
   "id": "89116023",
   "metadata": {},
   "source": [
    "## Asking Math questions"
   ]
  },
  {
   "cell_type": "code",
   "execution_count": 5,
   "id": "945dd869-0844-477d-b455-7cfac1d06b59",
   "metadata": {},
   "outputs": [
    {
     "data": {
      "text/plain": [
       "False"
      ]
     },
     "execution_count": 5,
     "metadata": {},
     "output_type": "execute_result"
    }
   ],
   "source": [
    "3 > 10.5"
   ]
  },
  {
   "attachments": {},
   "cell_type": "markdown",
   "id": "6181ffa3",
   "metadata": {},
   "source": [
    "# Python stores information in different formats or types"
   ]
  },
  {
   "cell_type": "code",
   "execution_count": 6,
   "id": "4406943e-5d81-45f1-9fdf-907057c28622",
   "metadata": {},
   "outputs": [
    {
     "name": "stdout",
     "output_type": "stream",
     "text": [
      "1 <class 'int'>\n"
     ]
    }
   ],
   "source": [
    "x = int(1.234)\n",
    "print(x, type(x))"
   ]
  },
  {
   "attachments": {},
   "cell_type": "markdown",
   "id": "23a16cb7",
   "metadata": {},
   "source": [
    "# Never compare floats directly"
   ]
  },
  {
   "attachments": {},
   "cell_type": "markdown",
   "id": "1db23841",
   "metadata": {},
   "source": [
    "## The Problem"
   ]
  },
  {
   "cell_type": "code",
   "execution_count": 8,
   "id": "45ee2044-20bc-44f7-bbc4-d68aa5147f1c",
   "metadata": {},
   "outputs": [
    {
     "data": {
      "text/plain": [
       "False"
      ]
     },
     "execution_count": 8,
     "metadata": {},
     "output_type": "execute_result"
    }
   ],
   "source": [
    "a = 0.1\n",
    "b = 0.3\n",
    "a * 3 == b"
   ]
  },
  {
   "cell_type": "code",
   "execution_count": 19,
   "id": "e97e2ebd-7d51-4f46-a4b5-94ea4e44dc29",
   "metadata": {},
   "outputs": [
    {
     "data": {
      "text/plain": [
       "'0.29999999999999999'"
      ]
     },
     "execution_count": 19,
     "metadata": {},
     "output_type": "execute_result"
    }
   ],
   "source": [
    "f'{0.3:.17f}'"
   ]
  },
  {
   "attachments": {},
   "cell_type": "markdown",
   "id": "aed5f07b",
   "metadata": {},
   "source": [
    "## A solution"
   ]
  },
  {
   "cell_type": "code",
   "execution_count": 20,
   "id": "2db3694a-aae5-4878-a63a-a2e92d34f09f",
   "metadata": {},
   "outputs": [
    {
     "data": {
      "text/plain": [
       "True"
      ]
     },
     "execution_count": 20,
     "metadata": {},
     "output_type": "execute_result"
    }
   ],
   "source": [
    "eps = 1E-10\n",
    "abs(a * 3 - a3) < eps"
   ]
  },
  {
   "cell_type": "code",
   "execution_count": 22,
   "id": "6262baf8-543b-447d-bd1f-70f9517a6391",
   "metadata": {},
   "outputs": [],
   "source": [
    "import numpy as np    # Importing Numpy and giving \n",
    "                      # it an alias np \n",
    "                      # because I am lazy"
   ]
  },
  {
   "cell_type": "code",
   "execution_count": 23,
   "id": "d0d3ba28-f18a-48b3-973a-dfad7188ae80",
   "metadata": {},
   "outputs": [
    {
     "data": {
      "text/plain": [
       "True"
      ]
     },
     "execution_count": 23,
     "metadata": {},
     "output_type": "execute_result"
    }
   ],
   "source": [
    "np.isclose(a * 3, a3)"
   ]
  },
  {
   "attachments": {},
   "cell_type": "markdown",
   "id": "d67181e5",
   "metadata": {},
   "source": [
    "# Combining English and variables"
   ]
  },
  {
   "cell_type": "code",
   "execution_count": 24,
   "id": "d4329b77-4558-4dd5-9e7f-3caeb6b4efa1",
   "metadata": {},
   "outputs": [
    {
     "name": "stdout",
     "output_type": "stream",
     "text": [
      "Bruce Wayne is Batman.\n"
     ]
    }
   ],
   "source": [
    "text = 'Bruce Wayne is Batman.'\n",
    "print(f'{text}')"
   ]
  },
  {
   "cell_type": "code",
   "execution_count": 25,
   "id": "f2f1966a-b274-4a3d-8aa2-2ce8b58683cd",
   "metadata": {},
   "outputs": [
    {
     "name": "stdout",
     "output_type": "stream",
     "text": [
      "        Bruce Wayne is Batman.\n"
     ]
    }
   ],
   "source": [
    "print(f'{text:>30}')      # A block of 30 characters;\n",
    "                          # aligned right"
   ]
  },
  {
   "cell_type": "code",
   "execution_count": 26,
   "id": "f0110de2-11c5-4d1d-81e4-a85b5220f60c",
   "metadata": {},
   "outputs": [
    {
     "name": "stdout",
     "output_type": "stream",
     "text": [
      "                                                                              Bruce Wayne is Batman.\n"
     ]
    }
   ],
   "source": [
    "print(f'{text:>100}')      # A block of 30 characters;\n",
    "                          # aligned right"
   ]
  },
  {
   "attachments": {},
   "cell_type": "markdown",
   "id": "7f8ce46b",
   "metadata": {},
   "source": [
    "## Structure of f-strings"
   ]
  },
  {
   "cell_type": "code",
   "execution_count": 27,
   "id": "03ae6b78-f7d0-48c0-adfe-5d73a180a6eb",
   "metadata": {},
   "outputs": [
    {
     "name": "stdout",
     "output_type": "stream",
     "text": [
      "The cube of pi to 6 decimal places is 31.0063\n"
     ]
    }
   ],
   "source": [
    "print(f'The cube of pi to 6 decimal places is {np.pi**3:.6g}')"
   ]
  },
  {
   "cell_type": "code",
   "execution_count": 33,
   "id": "2f11b4e3-86ef-4279-829f-2576cb31a170",
   "metadata": {},
   "outputs": [
    {
     "name": "stdout",
     "output_type": "stream",
     "text": [
      "The cube of pi in standard form is 3.100628e+01\n"
     ]
    }
   ],
   "source": [
    "print(f'The cube of pi in standard form is {np.pi**3:.6e}')"
   ]
  },
  {
   "cell_type": "code",
   "execution_count": 36,
   "id": "3d3e20ef-d3e0-483a-83a1-68612c6f402a",
   "metadata": {},
   "outputs": [
    {
     "name": "stdout",
     "output_type": "stream",
     "text": [
      "The cube of pi to the closest integer is 31.0063\n"
     ]
    }
   ],
   "source": [
    "print(f'The cube of pi to the closest integer is {np.pi**3:.6g}')"
   ]
  },
  {
   "attachments": {},
   "cell_type": "markdown",
   "id": "fda55a52",
   "metadata": {},
   "source": [
    "# Escape sequences"
   ]
  },
  {
   "cell_type": "code",
   "execution_count": 37,
   "id": "1074f623-6267-4ac9-94d1-160961c1d227",
   "metadata": {},
   "outputs": [
    {
     "name": "stdout",
     "output_type": "stream",
     "text": [
      "You're twenty years old.\n"
     ]
    }
   ],
   "source": [
    "print('You\\'re twenty years old.') "
   ]
  },
  {
   "cell_type": "code",
   "execution_count": 38,
   "id": "824bf222-8f50-47eb-9986-62b760bc9e5a",
   "metadata": {},
   "outputs": [
    {
     "ename": "SyntaxError",
     "evalue": "unterminated string literal (detected at line 1) (2717985741.py, line 1)",
     "output_type": "error",
     "traceback": [
      "\u001b[1;36m  Cell \u001b[1;32mIn[38], line 1\u001b[1;36m\u001b[0m\n\u001b[1;33m    print('You're twenty years old.')\u001b[0m\n\u001b[1;37m                                   ^\u001b[0m\n\u001b[1;31mSyntaxError\u001b[0m\u001b[1;31m:\u001b[0m unterminated string literal (detected at line 1)\n"
     ]
    }
   ],
   "source": [
    "print('You're twenty years old.') "
   ]
  },
  {
   "attachments": {},
   "cell_type": "markdown",
   "id": "facd2932",
   "metadata": {},
   "source": [
    "# Computers read = from Right to Left!"
   ]
  },
  {
   "cell_type": "code",
   "execution_count": 51,
   "id": "079cde7c-63a5-48a8-9eef-597567efd481",
   "metadata": {},
   "outputs": [
    {
     "name": "stdout",
     "output_type": "stream",
     "text": [
      "42 40\n"
     ]
    }
   ],
   "source": [
    "x = 40\n",
    "y = x + 2\n",
    "print(y, x)"
   ]
  },
  {
   "cell_type": "code",
   "execution_count": 41,
   "id": "35fe63c2-f967-4f75-a641-bba6638db4da",
   "metadata": {},
   "outputs": [
    {
     "name": "stdout",
     "output_type": "stream",
     "text": [
      "42\n"
     ]
    }
   ],
   "source": [
    "y = 40\n",
    "y = y + 2\n",
    "print(y)"
   ]
  },
  {
   "attachments": {},
   "cell_type": "markdown",
   "id": "c1454cf6",
   "metadata": {},
   "source": [
    "# Shorter and Cleaner Code"
   ]
  },
  {
   "cell_type": "code",
   "execution_count": 52,
   "id": "94b03d6a-0431-48ba-9ff4-2e39eaf1e29e",
   "metadata": {},
   "outputs": [
    {
     "data": {
      "text/plain": [
       "42"
      ]
     },
     "execution_count": 52,
     "metadata": {},
     "output_type": "execute_result"
    }
   ],
   "source": [
    "y = 40\n",
    "y += 2    # Same as y = y + 2\n",
    "y"
   ]
  },
  {
   "attachments": {},
   "cell_type": "markdown",
   "id": "4f336780",
   "metadata": {},
   "source": [
    "# Python can be a prima-donna."
   ]
  },
  {
   "cell_type": "code",
   "execution_count": 53,
   "id": "024895f4-31aa-40cb-bdea-6e337fc38935",
   "metadata": {},
   "outputs": [
    {
     "ename": "NameError",
     "evalue": "name 'Print' is not defined",
     "output_type": "error",
     "traceback": [
      "\u001b[1;31m---------------------------------------------------------------------------\u001b[0m",
      "\u001b[1;31mNameError\u001b[0m                                 Traceback (most recent call last)",
      "Cell \u001b[1;32mIn[53], line 1\u001b[0m\n\u001b[1;32m----> 1\u001b[0m \u001b[43mPrint\u001b[49m(Hello)\n",
      "\u001b[1;31mNameError\u001b[0m: name 'Print' is not defined"
     ]
    }
   ],
   "source": [
    "Print(Hello)"
   ]
  }
 ],
 "metadata": {
  "kernelspec": {
   "display_name": "Python 3 (ipykernel)",
   "language": "python",
   "name": "python3"
  },
  "language_info": {
   "codemirror_mode": {
    "name": "ipython",
    "version": 3
   },
   "file_extension": ".py",
   "mimetype": "text/x-python",
   "name": "python",
   "nbconvert_exporter": "python",
   "pygments_lexer": "ipython3",
   "version": "3.11.5"
  },
  "toc": {
   "base_numbering": 1,
   "nav_menu": {},
   "number_sections": true,
   "sideBar": true,
   "skip_h1_title": false,
   "title_cell": "Table of Contents",
   "title_sidebar": "Contents",
   "toc_cell": false,
   "toc_position": {},
   "toc_section_display": true,
   "toc_window_display": false
  },
  "vscode": {
   "interpreter": {
    "hash": "31f2aee4e71d21fbe5cf8b01ff0e069b9275f58929596ceb00d14d90e3e16cd6"
   }
  }
 },
 "nbformat": 4,
 "nbformat_minor": 5
}
