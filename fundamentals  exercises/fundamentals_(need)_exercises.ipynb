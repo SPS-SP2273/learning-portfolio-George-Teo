{
 "cells": [
  {
   "attachments": {},
   "cell_type": "markdown",
   "id": "123456",
   "metadata": {},
   "source": [
    "<div style=\"text-align:left;font-size:2em\"><span style=\"font-weight:bolder;font-size:1.25em\">SP2273 | Learning Portfolio</span><br><br><span style=\"font-weight:bold;color:darkred\">Fundamentals (Need) Exercises</span></div>"
   ]
  },
  {
   "cell_type": "markdown",
   "id": "3eb35608-3761-4adf-b8be-50d23ccd829f",
   "metadata": {},
   "source": [
    "# Exercise 1"
   ]
  },
  {
   "cell_type": "markdown",
   "id": "f2ed1a29-c2f2-441d-b362-5c22ac466380",
   "metadata": {},
   "source": [
    "## Purely from memory, list as many of the basic Python features I mentioned in my notes as you remember.\r\n",
    "Use a Markdown cell for this list\n",
    "\n",
    "- if\n",
    "- while\n",
    "- for\n",
    "- is."
   ]
  },
  {
   "cell_type": "markdown",
   "id": "3c9bd5bc-4be1-4cbf-ba5e-2817a32ab520",
   "metadata": {},
   "source": [
    "## Now, visit the notes and complete the list with the ones you missed.\r\n",
    "Indicate those you missed by putting them in italics (all of them)\n",
    "\n",
    "- abs()\n",
    "- all()\n",
    "- any()\n",
    "- ascill\n",
    "- bin()\n",
    "- bool()\n",
    "- bytearray()\n",
    "- bytes()\n",
    "- callable()\n",
    "- chr()\n",
    "- classmethod()\n",
    "- compile()\n",
    "- complex()\n",
    "- delattr()\n",
    "- dict()\n",
    "- dir()\n",
    "- divmod()\n",
    "- enumerate()\n",
    "- eval()\n",
    "- exec()\n",
    "- filter()\n",
    "- float()\n",
    "- format()\n",
    "- frozenset()\n",
    "- getattr()\n",
    "- globals()\n",
    "- hasattr()\n",
    "- hash()\n",
    "- help()\n",
    "- hex()\n",
    "- id()\n",
    "- input()\n",
    "- int()\n",
    "- ininstance()\n",
    "- issubclass()\n",
    "- intr()\n",
    "- len()\n",
    "- list()\n",
    "- locals()\n",
    "- map()\n",
    "- max()\n",
    "- memoryview()\n",
    "- min()\n",
    "- next()\n",
    "- object()\n",
    "- oct()\n",
    "- open()\n",
    "- ord()\n",
    "- pow()\n",
    "- print()\n",
    "- property()\n",
    "- range()\n",
    "- repr()\n",
    "- reversed()\n",
    "- round()\n",
    "- set()\n",
    "- setattr()\n",
    "- slice()\n",
    "- sorted()\n",
    "- staticmethod()\n",
    "- str()\n",
    "- sum()\n",
    "- super()\n",
    "- tuple()\n",
    "- type()\n",
    "- vars()\n",
    "- zip()."
   ]
  },
  {
   "cell_type": "markdown",
   "id": "8f2ee412-e962-4e32-9df8-5bd03b7e4a77",
   "metadata": {},
   "source": [
    "# Exercise 2"
   ]
  },
  {
   "cell_type": "code",
   "execution_count": 9,
   "id": "e4a1d530-e2de-4828-b7f5-186612136101",
   "metadata": {},
   "outputs": [],
   "source": [
    "import math"
   ]
  },
  {
   "cell_type": "code",
   "execution_count": 13,
   "id": "89a45af2-8b9f-4f0f-8956-2d01c7200c94",
   "metadata": {},
   "outputs": [
    {
     "name": "stdout",
     "output_type": "stream",
     "text": [
      "3 4 5.0\n"
     ]
    }
   ],
   "source": [
    "x, y = 3, 4\n",
    "z = math.sqrt(x**2 + y**2)\n",
    "print(x, y, z)"
   ]
  },
  {
   "cell_type": "markdown",
   "id": "50869ae9-0920-45bd-b433-bddfa6a044fe",
   "metadata": {},
   "source": [
    "# Exercise 3"
   ]
  },
  {
   "cell_type": "markdown",
   "id": "07950544-005f-4963-acf9-cf134a53dbff",
   "metadata": {},
   "source": [
    "| #  | Term         | Description                                                                                 |\r\n",
    "|----|--------------|---------------------------------------------------------------------------------------------|\r\n",
    "| 1  | Function     | A type of task that the Python interpreter executes                                         |\r\n",
    "| 2  | Argument     | The specifics of the task of a function                                                     |\r\n",
    "| 3  | Comments     | Text that the interpreter does not read                                                     |\r\n",
    "| 4  | Indentations | A space or TAB which is used to separate TRUE or FALSE cases                                |\r\n",
    "| 5  | Package      | A compilation of non-built-in functions                                                     |\r\n",
    "| 6  | `.`          | Everything directly after the `.` belongs to the contents directly before it                |\r\n",
    "| 7  | `:`          | Used with indentations to specify the function to execute should the check be true or false |\r\n",
    "| 8  | `[]`         | To define lists                                                                             |\r\n",
    "| 9  | `[[[]]]`     | A list which contains two other lists nested within it                                      |\r\n",
    "| 10 | `{}`         | To define dictionaries                                                                      |"
   ]
  },
  {
   "cell_type": "markdown",
   "id": "f080de07-df05-467b-9b75-5dde3ff3e099",
   "metadata": {},
   "source": [
    "# Exercise 4"
   ]
  },
  {
   "cell_type": "code",
   "execution_count": 15,
   "id": "b6c32b9f-bfd4-416a-a198-919f849fcd49",
   "metadata": {
    "scrolled": true
   },
   "outputs": [
    {
     "data": {
      "text/plain": [
       "2.5"
      ]
     },
     "execution_count": 15,
     "metadata": {},
     "output_type": "execute_result"
    }
   ],
   "source": [
    "5/2           # Divide 5 by 2"
   ]
  },
  {
   "cell_type": "code",
   "execution_count": 23,
   "id": "004c6162-3548-487f-8b3c-95c3739c4f6a",
   "metadata": {},
   "outputs": [
    {
     "data": {
      "text/plain": [
       "2"
      ]
     },
     "execution_count": 23,
     "metadata": {},
     "output_type": "execute_result"
    }
   ],
   "source": [
    "5//2          # The floor function of 5÷2"
   ]
  },
  {
   "cell_type": "code",
   "execution_count": 38,
   "id": "bcbd9732-0df7-41c0-a887-b5836060cdd5",
   "metadata": {},
   "outputs": [
    {
     "data": {
      "text/plain": [
       "1"
      ]
     },
     "execution_count": 38,
     "metadata": {},
     "output_type": "execute_result"
    }
   ],
   "source": [
    "5%2           # The remainder of 5÷2"
   ]
  }
 ],
 "metadata": {
  "kernelspec": {
   "display_name": "Python 3 (ipykernel)",
   "language": "python",
   "name": "python3"
  },
  "language_info": {
   "codemirror_mode": {
    "name": "ipython",
    "version": 3
   },
   "file_extension": ".py",
   "mimetype": "text/x-python",
   "name": "python",
   "nbconvert_exporter": "python",
   "pygments_lexer": "ipython3",
   "version": "3.11.5"
  },
  "toc": {
   "base_numbering": 1,
   "nav_menu": {},
   "number_sections": true,
   "sideBar": true,
   "skip_h1_title": false,
   "title_cell": "Table of Contents",
   "title_sidebar": "Contents",
   "toc_cell": false,
   "toc_position": {},
   "toc_section_display": true,
   "toc_window_display": false
  },
  "vscode": {
   "interpreter": {
    "hash": "31f2aee4e71d21fbe5cf8b01ff0e069b9275f58929596ceb00d14d90e3e16cd6"
   }
  }
 },
 "nbformat": 4,
 "nbformat_minor": 5
}
