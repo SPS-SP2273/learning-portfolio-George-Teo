{
 "cells": [
  {
   "attachments": {},
   "cell_type": "markdown",
   "id": "123456",
   "metadata": {},
   "source": [
    "<div style=\"text-align:left;font-size:2em\"><span style=\"font-weight:bolder;font-size:1.25em\">SP2273 | Learning Portfolio</span><br><br><span style=\"font-weight:bold;color:darkred\">Functions (Good) Exercises</span></div>"
   ]
  },
  {
   "cell_type": "markdown",
   "id": "9effc674-90ca-4103-8c9d-557f75bfebe6",
   "metadata": {},
   "source": [
    "# Exercise 1\n",
    "- Develop a function named `convert_celsius()` to convert temperatures from Celsius to either Fahrenheit or Kelvin.\n",
    "- The function should take two arguments:\n",
    "    - `temperature_celsius`: The temperature in Celsius.\n",
    "    - `target_scale` (string): The target scale for conversion, with the default value set to `'Fahrenheit'`.\n",
    "- The function should return the temperature in Kelvin if `target_scale` is `'Kelvin'`; otherwise, it should return the temperature in Fahrenheit."
   ]
  },
  {
   "cell_type": "code",
   "execution_count": 25,
   "id": "a7973e73-91cc-4c46-b830-648a8f2ec86d",
   "metadata": {},
   "outputs": [],
   "source": [
    "def convert_celsius(temperature_celsius, target_scale = 'Fahrenheit'):\n",
    "    if target_scale.lower() == 'fahrenheit':                                               # To ensure that the target_scale part is not case-sensitive\n",
    "        temperature_fahrenheit = (temperature_celsius)*1.8 + 32\n",
    "        return f'{temperature_celsius}°C is {temperature_fahrenheit}°F.'\n",
    "    elif target_scale.lower() == 'kelvin':\n",
    "        temperature_kelvin = temperature_celsius + 273.15\n",
    "        return f'{temperature_celsius}°C is {temperature_kelvin}K.'\n",
    "    else:\n",
    "        return 'I can only convert from °C to °F or K.'"
   ]
  },
  {
   "cell_type": "code",
   "execution_count": 4,
   "id": "0262cff9-4b03-459e-a985-79b6189d84ef",
   "metadata": {},
   "outputs": [
    {
     "data": {
      "text/plain": [
       "'100°C is 373.15K.'"
      ]
     },
     "execution_count": 4,
     "metadata": {},
     "output_type": "execute_result"
    }
   ],
   "source": [
    "convert_celsius(100, 'Kelvin')"
   ]
  },
  {
   "cell_type": "code",
   "execution_count": 5,
   "id": "ddd53585-db4e-4590-a229-10e4b0edcff7",
   "metadata": {},
   "outputs": [
    {
     "data": {
      "text/plain": [
       "'100°C is 212.0°F.'"
      ]
     },
     "execution_count": 5,
     "metadata": {},
     "output_type": "execute_result"
    }
   ],
   "source": [
    "convert_celsius(100, 'Fahrenheit')"
   ]
  },
  {
   "cell_type": "code",
   "execution_count": 6,
   "id": "0c00250e-cba9-43ab-b578-31f7d7e4c4bb",
   "metadata": {},
   "outputs": [
    {
     "data": {
      "text/plain": [
       "'I can only convert from °C to °F or K.'"
      ]
     },
     "execution_count": 6,
     "metadata": {},
     "output_type": "execute_result"
    }
   ],
   "source": [
    "convert_celsius(100, 'Newton')"
   ]
  },
  {
   "cell_type": "markdown",
   "id": "14e4474f-7446-4877-9bb4-32385610dade",
   "metadata": {},
   "source": [
    "# Exercise 2\n",
    "- Develop a function called `convert_fahrenheit()` for converting temperatures from Fahrenheit to either Celsius or Kelvin.\n",
    "- The function should take two arguments:\n",
    "    - `temperature_fahrenheit`: The temperature in Fahrenheit.\n",
    "    - `target_scale (string)`: The target scale for conversion, defaulting to `'Celsius'`.\n",
    "- The function should return the temperature in Kelvin if `target_scale` is `'Kelvin'`; otherwise, return it in Celsius."
   ]
  },
  {
   "cell_type": "code",
   "execution_count": 14,
   "id": "c5daa970-a387-4ed7-b9b4-4cc9cb31d80c",
   "metadata": {},
   "outputs": [],
   "source": [
    "def convert_fahrenheit(temperature_fahrenheit, target_scale = 'Celsius'):\n",
    "    if target_scale.lower() == 'celsius':                                               # Converting all string in 'target_scale' part\n",
    "        temperature_celsius = (temperature_fahrenheit - 32)/1.8                         # to lowercase once again\n",
    "        return f'{temperature_fahrenheit}°F is {temperature_celsius}°C.'\n",
    "    elif target_scale.lower() == 'kelvin':\n",
    "        temperature_kelvin = (temperature_fahrenheit - 32)/1.8 + 273.15\n",
    "        return f'{temperature_fahrenheit}°F is {temperature_kelvin}K.'\n",
    "    else:\n",
    "        return 'I can only convert from °F to °C or K.'"
   ]
  },
  {
   "cell_type": "code",
   "execution_count": 18,
   "id": "e7cdd6a7-d123-4f2d-b08d-0642c4879e5e",
   "metadata": {},
   "outputs": [
    {
     "data": {
      "text/plain": [
       "'50°F is 10.0°C.'"
      ]
     },
     "execution_count": 18,
     "metadata": {},
     "output_type": "execute_result"
    }
   ],
   "source": [
    "convert_fahrenheit(50)"
   ]
  },
  {
   "cell_type": "code",
   "execution_count": 20,
   "id": "3c81f624-039c-4c94-a28f-cde55211ec0b",
   "metadata": {},
   "outputs": [
    {
     "data": {
      "text/plain": [
       "'50°F is 283.15K.'"
      ]
     },
     "execution_count": 20,
     "metadata": {},
     "output_type": "execute_result"
    }
   ],
   "source": [
    "convert_fahrenheit(50, 'Kelvin')"
   ]
  },
  {
   "cell_type": "code",
   "execution_count": 21,
   "id": "5d49baa2-2212-4ce4-a85c-0f9155507b51",
   "metadata": {},
   "outputs": [
    {
     "data": {
      "text/plain": [
       "'I can only convert from °F to °C or K.'"
      ]
     },
     "execution_count": 21,
     "metadata": {},
     "output_type": "execute_result"
    }
   ],
   "source": [
    "convert_fahrenheit(50, 'Energy')"
   ]
  },
  {
   "cell_type": "markdown",
   "id": "7005efb5-cd0a-4a4a-a45d-6d23205ef981",
   "metadata": {},
   "source": [
    "# Exercise 3\n",
    "- Implement a function named `convert_temperature()` to perform general temperature conversions.\n",
    "- The function should take three arguments:\n",
    "    - `temperature`: The temperature to be converted.\n",
    "    - `source_scale` (string): The scale of the input temperature (either `'Celsius'`, `'Fahrenheit'`, or `'Kelvin'`).\n",
    "    - `target_scale` (string): The desired scale for the output temperature.\n",
    "- Remember to reuse your previous functions!"
   ]
  },
  {
   "cell_type": "code",
   "execution_count": 36,
   "id": "3d8391a2-6263-4841-90d5-95439181b5f8",
   "metadata": {},
   "outputs": [],
   "source": [
    "def convert_kelvin(temperature_kelvin, target_scale = 'Celsius'):           # First, we need to create a convert_kelvin function\n",
    "    if target_scale.lower() == 'celsius':\n",
    "        temperature_celsius = temperature_kelvin - 273.15\n",
    "        return f'{temperature_kelvin}K is {temperature_celsius}°C.'\n",
    "    elif target_scale.lower() == 'fahrenheit':\n",
    "        temperature_fahrenheit = (temperature_kelvin - 273.15)*1.8 + 32\n",
    "        return f'{temperature_kelvin}K is {temperature_fahrenheit}°F.'\n",
    "    else:\n",
    "        return 'I can only convert from K to °C or °F.'\n",
    "\n",
    "def convert_temperature(temperature, source_scale, target_scale):            # Then, we create the convert_temperature function\n",
    "    if source_scale.lower() == 'celsius':\n",
    "        return convert_celsius(temperature, target_scale)                    # It is a composite function that uses source_scale to deside\n",
    "    elif source_scale.lower() == 'fahrenheit':                               # the 'inner' function\n",
    "        return convert_fahrenheit(temperature, target_scale)\n",
    "    elif source_scale.lower() == 'kelvin':\n",
    "        return convert_kelvin(temperature, target_scale)\n",
    "    else:\n",
    "        return 'I can only interconvert between °F, °C, and K.'"
   ]
  },
  {
   "cell_type": "code",
   "execution_count": 31,
   "id": "cdabaf2e-d14f-4d34-9ce3-95feeb359217",
   "metadata": {},
   "outputs": [
    {
     "data": {
      "text/plain": [
       "'100°C is 373.15K.'"
      ]
     },
     "execution_count": 31,
     "metadata": {},
     "output_type": "execute_result"
    }
   ],
   "source": [
    "convert_temperature(100, 'celsius', 'kelvin')"
   ]
  },
  {
   "cell_type": "code",
   "execution_count": 33,
   "id": "22fd0416-4876-4362-9cbc-421f1706a894",
   "metadata": {},
   "outputs": [
    {
     "data": {
      "text/plain": [
       "'100°C is 212.0°F.'"
      ]
     },
     "execution_count": 33,
     "metadata": {},
     "output_type": "execute_result"
    }
   ],
   "source": [
    "convert_temperature(100, 'celsius', 'fahrenheit')"
   ]
  },
  {
   "cell_type": "code",
   "execution_count": 34,
   "id": "88b05a03-9559-4bb5-b765-e17806a5a8b4",
   "metadata": {},
   "outputs": [
    {
     "data": {
      "text/plain": [
       "'50°F is 283.15K.'"
      ]
     },
     "execution_count": 34,
     "metadata": {},
     "output_type": "execute_result"
    }
   ],
   "source": [
    "convert_temperature(50, 'fahrenheit', 'kelvin')"
   ]
  },
  {
   "cell_type": "code",
   "execution_count": 35,
   "id": "9e82d624-9597-4073-9ce3-e9e8be9e701f",
   "metadata": {},
   "outputs": [
    {
     "data": {
      "text/plain": [
       "'300K is 26.850000000000023°C.'"
      ]
     },
     "execution_count": 35,
     "metadata": {},
     "output_type": "execute_result"
    }
   ],
   "source": [
    "convert_temperature(300, 'kelvin', 'celsius')"
   ]
  }
 ],
 "metadata": {
  "kernelspec": {
   "display_name": "Python 3 (ipykernel)",
   "language": "python",
   "name": "python3"
  },
  "language_info": {
   "codemirror_mode": {
    "name": "ipython",
    "version": 3
   },
   "file_extension": ".py",
   "mimetype": "text/x-python",
   "name": "python",
   "nbconvert_exporter": "python",
   "pygments_lexer": "ipython3",
   "version": "3.11.5"
  },
  "toc": {
   "base_numbering": 1,
   "nav_menu": {},
   "number_sections": true,
   "sideBar": true,
   "skip_h1_title": false,
   "title_cell": "Table of Contents",
   "title_sidebar": "Contents",
   "toc_cell": false,
   "toc_position": {},
   "toc_section_display": true,
   "toc_window_display": false
  },
  "vscode": {
   "interpreter": {
    "hash": "31f2aee4e71d21fbe5cf8b01ff0e069b9275f58929596ceb00d14d90e3e16cd6"
   }
  }
 },
 "nbformat": 4,
 "nbformat_minor": 5
}
