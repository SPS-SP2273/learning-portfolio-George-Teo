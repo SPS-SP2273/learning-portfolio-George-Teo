{
 "cells": [
  {
   "attachments": {},
   "cell_type": "markdown",
   "id": "123456",
   "metadata": {},
   "source": [
    "<div style=\"text-align:left;font-size:2em\"><span style=\"font-weight:bolder;font-size:1.25em\">SP2273 | Learning Portfolio</span><br><br><span style=\"font-weight:bold;color:darkred\">Functions (Need) Exercises</span></div>"
   ]
  },
  {
   "cell_type": "markdown",
   "id": "9e8a8595-0e16-4ec2-9e86-fd2a78a8eb9e",
   "metadata": {},
   "source": [
    "# Exercise 1\n",
    "The following code works as expected despite not having an `else` statement. Please use a Markdown cell to explain why"
   ]
  },
  {
   "cell_type": "code",
   "execution_count": 17,
   "id": "542b4a38-deee-4f3a-a78d-646d4d54f1db",
   "metadata": {},
   "outputs": [],
   "source": [
    "def greeting(name):\n",
    "    if name == 'Batman':\n",
    "        return 'Hello Batman! So, nice to meet you!'\n",
    "    return f'Hello {name}!'"
   ]
  },
  {
   "cell_type": "code",
   "execution_count": 4,
   "id": "d0b51742-b4ef-4a6c-b367-1f92bf72da53",
   "metadata": {},
   "outputs": [],
   "source": [
    "def greeting(name):\n",
    "    if name == 'Batman':\n",
    "        print('Hello Batman! So, nice to meet you!')\n",
    "    print(f'Hello {name}!')  # It works with the 'print' function as well"
   ]
  },
  {
   "cell_type": "code",
   "execution_count": 3,
   "id": "8e70422a-2eb7-4a43-878c-6ae2c6eefd29",
   "metadata": {},
   "outputs": [
    {
     "name": "stdout",
     "output_type": "stream",
     "text": [
      "Hello Spierderman!\n"
     ]
    }
   ],
   "source": [
    "greeting('Spierderman')"
   ]
  },
  {
   "cell_type": "code",
   "execution_count": 6,
   "id": "aa5cbd92-2dec-40a1-8c6e-cdfbc291e161",
   "metadata": {},
   "outputs": [
    {
     "data": {
      "text/plain": [
       "'Hello Superman!'"
      ]
     },
     "execution_count": 6,
     "metadata": {},
     "output_type": "execute_result"
    }
   ],
   "source": [
    "def greeting(name):\n",
    "    if name == 'Batman':\n",
    "        return 'Hello Batman! So, nice to meet you!'\n",
    "    else:\n",
    "        return f'Hello {name}!'\n",
    "\n",
    "greeting('Superman')"
   ]
  },
  {
   "cell_type": "markdown",
   "id": "8b6307ea-968f-4c81-b477-d96e068062d8",
   "metadata": {},
   "source": [
    "In this case, it seems to be because the second `return` statement handles all cases should the `if` statement not be true. "
   ]
  },
  {
   "cell_type": "markdown",
   "id": "1f1769d0-cb89-4539-bc5a-b14cb2b1de9b",
   "metadata": {},
   "source": [
    "# Example 2\n",
    "Write a Python function named `calculate_bmi`.\n",
    "\n",
    "* The function should take two parameters:\n",
    "`weight` (in kilograms) and `height` (in meters).\n",
    "* The function should calculate the BMI (Body Mass Index) using the formula `BMI = weight / (height ** 2)`.\n",
    "* Based on the calculated BMI, the function should return a string indicating the BMI category based on the following criteria:\n",
    "\n",
    "\n",
    "| Category      | BMI Range                 |\n",
    "|---------------|---------------------------|\n",
    "| Underweight   | BMI less than 18.5        |\n",
    "| Normal weight | BMI between 18.5 and 24.9 |\n",
    "| Overweight    | BMI between 25 and 29.9   |\n",
    "| Obese         | BMI 30 or more            |eria:"
   ]
  },
  {
   "cell_type": "code",
   "execution_count": 8,
   "id": "0c9cf0f9-db80-4687-916b-13463715e0c5",
   "metadata": {},
   "outputs": [],
   "source": [
    "import numpy as np"
   ]
  },
  {
   "cell_type": "code",
   "execution_count": 13,
   "id": "fe83c1c2-934e-44ae-a500-71b51c6aee3e",
   "metadata": {},
   "outputs": [
    {
     "data": {
      "text/plain": [
       "'You are overweight and your BMI is 27.8.'"
      ]
     },
     "execution_count": 13,
     "metadata": {},
     "output_type": "execute_result"
    }
   ],
   "source": [
    "def bmi_calculator(height, weight):\n",
    "    try:\n",
    "        BMI = weight / (height**2)\n",
    "        if int(weight) <= 0 or int(height) <= 0:\n",
    "            return 'Please input valid height and weight values.'    \n",
    "        elif BMI < 18.5:\n",
    "            return f'You are underweight and your BMI is {BMI:.3}.'\n",
    "        elif 18.5 <= BMI < 25:\n",
    "            return f'You have a normal weight and your BMI is {BMI:.3}.'\n",
    "        elif 25 <= BMI < 30:\n",
    "            return f'You are overweight and your BMI is {BMI:.3}.'\n",
    "        elif 30 <= BMI:\n",
    "            return f'You are obese and your BMI is {BMI:.3}.'\n",
    "        else:\n",
    "            return 'Please input valid height and weight values.'\n",
    "    except:\n",
    "        return 'Please input valid height and weight values.'\n",
    "\n",
    "# Example: A 1.80 m tall person who is 80 kg\n",
    "bmi_calculator(1.80, 90)                                                 # The output is returned in 3 sf"
   ]
  },
  {
   "cell_type": "code",
   "execution_count": 9,
   "id": "2150164e-8ada-4b37-8ed6-be27d0a1f2e6",
   "metadata": {},
   "outputs": [
    {
     "data": {
      "text/plain": [
       "'Please input valid height and weight values.'"
      ]
     },
     "execution_count": 9,
     "metadata": {},
     "output_type": "execute_result"
    }
   ],
   "source": [
    "bmi_calculator(2, 0)"
   ]
  },
  {
   "cell_type": "code",
   "execution_count": 15,
   "id": "33affefe-cc04-4e6b-8cb2-966675820d35",
   "metadata": {},
   "outputs": [
    {
     "data": {
      "text/plain": [
       "'Please input valid height and weight values.'"
      ]
     },
     "execution_count": 15,
     "metadata": {},
     "output_type": "execute_result"
    }
   ],
   "source": [
    "bmi_calculator('alex', 3)"
   ]
  }
 ],
 "metadata": {
  "kernelspec": {
   "display_name": "Python 3 (ipykernel)",
   "language": "python",
   "name": "python3"
  },
  "language_info": {
   "codemirror_mode": {
    "name": "ipython",
    "version": 3
   },
   "file_extension": ".py",
   "mimetype": "text/x-python",
   "name": "python",
   "nbconvert_exporter": "python",
   "pygments_lexer": "ipython3",
   "version": "3.11.5"
  },
  "toc": {
   "base_numbering": 1,
   "nav_menu": {},
   "number_sections": true,
   "sideBar": true,
   "skip_h1_title": false,
   "title_cell": "Table of Contents",
   "title_sidebar": "Contents",
   "toc_cell": false,
   "toc_position": {},
   "toc_section_display": true,
   "toc_window_display": false
  },
  "vscode": {
   "interpreter": {
    "hash": "31f2aee4e71d21fbe5cf8b01ff0e069b9275f58929596ceb00d14d90e3e16cd6"
   }
  }
 },
 "nbformat": 4,
 "nbformat_minor": 5
}
